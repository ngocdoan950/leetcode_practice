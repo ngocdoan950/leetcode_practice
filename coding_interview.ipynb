{
 "cells": [
  {
   "cell_type": "markdown",
   "metadata": {},
   "source": [
    "# Problem solving"
   ]
  },
  {
   "cell_type": "markdown",
   "metadata": {},
   "source": [
    "# Problem solving skill"
   ]
  },
  {
   "cell_type": "markdown",
   "metadata": {},
   "source": [
    "## Steps\n",
    "+ Hiểu rõ tình huống\n",
    "\n",
    "+ Xác định nguyên nhân gốc rễ vấn đề\n",
    "    - Liệt kê tất cả những nguyên nhân có thể có của vấn đề \n",
    "    - Đưa ra giả thuyết về nguyên nhân có thể xảy ra nhất\n",
    "        - Hãy kiểm tra lại nguyên nhân này\n",
    "    - Xác định những phân tích & thông tin cần thiết để kiểm tra giả thuyết\n",
    "    - Phân tích & xác định nguyên nhân gốc rễ\n",
    "\n",
    "+ Thiết lập kế hoạch *hành động hiệu quả*\n",
    "    - Đưa ra những giải pháp khác nhau để giải quyết vấn đề\n",
    "    - Đưa ra lựa chọn ưu tiên\n",
    "    - Đưa ra kế hoạch hành động ~ bảng kế hoạch giải quyết vấn đề\n",
    "        | Vấn đề | Giả thuyết | Cơ sở | Phân tích/hành động | Nguồn thông tin |\n",
    "        |--------|--------|--------|--------|--------|\n",
    "        | (1) | (2) | (3) | (4) | (5) |\n",
    "\n",
    "\n",
    "+ Triển khai thực hiện kế hoạch cho đến khi giải quyết được\n",
    "\n",
    "+ Công cụ: sơ đồ cây logic\n",
    "\n",
    "## Chia nhỏ mục tiêu\n",
    "\n",
    "+ Xác định mục tiêu cụ thể\n",
    "\n",
    "+ Xác định khoảng cách giữa mục tiêu & tình trạng hiện tại \n",
    "\n",
    "+ Đưa ra giả thuyết về cách rút ngắn khoảng cách để đạt mục tiêu\n",
    "    - Liệt kê tất cả những ý tưởng & lựa chọn\n",
    "    - Chọn ý tưởng tốt nhất làm giả thuyết\n",
    "\n",
    "+ Kiểm tra giả thuyết rồi quay lại bước 3 nếu giải thuyết bị bác bỏ\n",
    "    - Phân tích & xác định những thông tin cần thiết để kiểm tra giả thuyết\n",
    "    - Phân tích & lên kế hoạch hành động"
   ]
  },
  {
   "cell_type": "markdown",
   "metadata": {},
   "source": [
    "# Hướng dẫn debug\n",
    "+ F5: tiếp tục chạy chương trình đến điểm dừng (breakpoint) tiếp theo hoặc kết thúc\n",
    "+ F10: chạy từng dòng nhưng bỏ qua hàm con\n",
    "+ F11: chạy từng dòng & nhảy vào từng hàm con.\n",
    "+ shift + F11: thoát khỏi hàm hiện tại & quay lại hàm cha"
   ]
  },
  {
   "cell_type": "markdown",
   "metadata": {},
   "source": [
    "# DSA - 01"
   ]
  },
  {
   "cell_type": "markdown",
   "metadata": {},
   "source": [
    "## 1. Array"
   ]
  },
  {
   "cell_type": "markdown",
   "metadata": {},
   "source": [
    "### 121. Best Time to Buy and Sell Stock"
   ]
  },
  {
   "cell_type": "markdown",
   "metadata": {},
   "source": [
    "## 2. String"
   ]
  },
  {
   "cell_type": "markdown",
   "metadata": {},
   "source": [
    "### 125. Valid Palindrome"
   ]
  },
  {
   "cell_type": "code",
   "execution_count": null,
   "metadata": {},
   "outputs": [
    {
     "name": "stdout",
     "output_type": "stream",
     "text": [
      "True\n",
      "False\n",
      "True\n"
     ]
    }
   ],
   "source": [
    "def isPalindrome(s: str) -> bool:\n",
    "    #           pre-process\n",
    "    alphaNumbericStr = \"\"\n",
    "    for c in s:\n",
    "        if c.isalpha() or c.isdigit():\n",
    "            alphaNumbericStr += c.lower()\n",
    "    \n",
    "    #       \n",
    "    numb_char = len(alphaNumbericStr)\n",
    "    if numb_char <= 1:\n",
    "        return True\n",
    "    first_pointer = 0\n",
    "    last_pointer = numb_char - 1\n",
    "    while (first_pointer <= last_pointer):\n",
    "        if alphaNumbericStr[first_pointer] != alphaNumbericStr[last_pointer]:\n",
    "            return False\n",
    "        first_pointer += 1\n",
    "        last_pointer -= 1\n",
    "    return True\n",
    "\n",
    "list_test_cases = [\n",
    "    \"A man, a plan, a canal: Panama\",\n",
    "    \"race a car\",\n",
    "    \" \"\n",
    "]\n",
    "#\n",
    "for tc in list_test_cases:\n",
    "    print(isPalindrome(tc))"
   ]
  },
  {
   "cell_type": "markdown",
   "metadata": {},
   "source": [
    "### 8. String to Integer (atoi)"
   ]
  },
  {
   "cell_type": "markdown",
   "metadata": {},
   "source": [
    "### 3. Longest Substring Without Repeating Characters\n",
    "Given a string s, find the length of the longest \n",
    "substring without duplicate characters."
   ]
  },
  {
   "cell_type": "code",
   "execution_count": null,
   "metadata": {},
   "outputs": [],
   "source": [
    "def lengthOfLongestSubstring(self, s: str) -> int:"
   ]
  },
  {
   "cell_type": "markdown",
   "metadata": {},
   "source": [
    "## 3. Recursion"
   ]
  },
  {
   "cell_type": "markdown",
   "metadata": {},
   "source": [
    "+ Solving a problem by breaking it down to smaller instances of the same problem\n",
    "+ Can be estimated based on number of calls to the method. \n",
    "    - example: factorial O(n) time & O(n) memory\n",
    "+ Applications:\n",
    "    - sorting algorithms \n",
    "    - graph algorithms\n",
    "    - binary search"
   ]
  },
  {
   "cell_type": "markdown",
   "metadata": {},
   "source": [
    "### 509. Fibonacci Number"
   ]
  },
  {
   "cell_type": "code",
   "execution_count": null,
   "metadata": {},
   "outputs": [],
   "source": [
    "#           509. Fibonacci Number\n",
    "def fibonacci_number(n: int) -> int:\n",
    "    #       Naive approach\n",
    "    #   f(n) = f(n - 1) + f(n - 2)\n",
    "    if n <= 1: \n",
    "        return n\n",
    "    return fibonacci_number(n - 1) + fibonacci_number(n - 2)\n",
    "    #       Optimized approach using hashmap (data structure)\n",
    "    "
   ]
  },
  {
   "cell_type": "markdown",
   "metadata": {},
   "source": [
    "### 202. Happy Number"
   ]
  },
  {
   "cell_type": "code",
   "execution_count": null,
   "metadata": {},
   "outputs": [],
   "source": [
    "#           202. Happy Number\n",
    "def square_digits(n: int) -> int:\n",
    "    sum_square_digits = 0\n",
    "    while (n > 0):\n",
    "        sum_square_digits += (n%10)**2\n",
    "        #       chia lấy phần nguyên\n",
    "        n //= 10\n",
    "    return sum_square_digits\n",
    "\n",
    "def isHappy(n: int) -> bool:\n",
    "    if n == 1:\n",
    "        return True\n",
    "    # \n",
    "    list_values = []\n",
    "    while (n not in list_values):\n",
    "        sum_square_digits = square_digits(n)\n",
    "        if sum_square_digits == 1:\n",
    "            return True\n",
    "        list_values.append(sum_square_digits)\n",
    "        n = sum_square_digits\n",
    "    return False\n"
   ]
  },
  {
   "cell_type": "code",
   "execution_count": 29,
   "metadata": {},
   "outputs": [
    {
     "data": {
      "text/plain": [
       "False"
      ]
     },
     "execution_count": 29,
     "metadata": {},
     "output_type": "execute_result"
    }
   ],
   "source": [
    "isHappy(19)"
   ]
  },
  {
   "cell_type": "markdown",
   "metadata": {},
   "source": [
    "### 326. Power of three"
   ]
  },
  {
   "cell_type": "code",
   "execution_count": null,
   "metadata": {},
   "outputs": [
    {
     "name": "stdout",
     "output_type": "stream",
     "text": [
      "1.2\n"
     ]
    }
   ],
   "source": [
    "#           326. Power of three"
   ]
  },
  {
   "cell_type": "markdown",
   "metadata": {},
   "source": [
    "### 1545. Find Kth Bit in Nth Binary String"
   ]
  },
  {
   "cell_type": "code",
   "execution_count": null,
   "metadata": {},
   "outputs": [],
   "source": [
    "#            1545. Find Kth Bit in Nth Binary String"
   ]
  },
  {
   "cell_type": "markdown",
   "metadata": {},
   "source": [
    "## 4. Sorting\n",
    "+ Key note: làm cách nào để **reorder** để sort cho hiệu quả "
   ]
  },
  {
   "cell_type": "code",
   "execution_count": null,
   "metadata": {},
   "outputs": [
    {
     "name": "stdout",
     "output_type": "stream",
     "text": [
      "[1, 2, 4, 5, 6]\n"
     ]
    }
   ],
   "source": [
    "def buffer_sort(arr: list) -> list:\n",
    "    #       i, j, temp\n",
    "    for i in range(len(arr)):\n",
    "        for j in range(i + 1, len(arr)):\n",
    "            if arr[i] > arr[j]:\n",
    "                #       swap arr[i] & arr[j]\n",
    "                temp = arr[i]\n",
    "                arr[i] = arr[j]\n",
    "                arr[j] = temp\n",
    "    return arr\n",
    "\n",
    "buffer_sort([1, 2, 5, 4, 6])"
   ]
  },
  {
   "cell_type": "code",
   "execution_count": null,
   "metadata": {},
   "outputs": [],
   "source": [
    "\"\"\"\n",
    "Algorithm:\n",
    "    - divide the array into two halves\n",
    "    - sort each half\n",
    "    - then merge the sorted halves back together\n",
    "    - this process is repeated until the entire array is sorted\n",
    "\n",
    "Time complexity: O(n* log(n))    \n",
    "\"\"\"\n",
    "import numpy as np\n",
    "import copy\n",
    "\n",
    "\n",
    "def merge(arr: list, left_pointer: int, midel_pointer: int, right_pointer: int):\n",
    "    #       find sizes of 2 sub-arrays to be merged\n",
    "    len_left_arr = midel_pointer - left_pointer + 1\n",
    "    len_right_arr = right_pointer - midel_pointer\n",
    "\n",
    "    #       create temp arrays \n",
    "    left_sub_arr = np.array(len_left_arr)\n",
    "    right_sub_arr = np.array(len_right_arr)\n",
    "\n",
    "    #       copy data to temp arrays\n",
    "    left_sub_arr = copy.deepcopy(arr[left_pointer, midel_pointer])\n",
    "    right_sub_arr = copy.deepcopy(arr[midel_pointer, right_pointer])\n",
    "\n",
    "    #       \n",
    "\n",
    "\n",
    "def merger_sort(arr: list, left_pointer: int, right_pointer: int) -> list:\n",
    "    if left_pointer < right_pointer:\n",
    "        #       calculate midle pointer\n",
    "        midle_pointer = left_pointer + int((right_pointer - 1)/2)\n",
    "\n",
    "        #       sort fist & second halves\n",
    "        merger_sort(arr[left_pointer], left_pointer, midle_pointer)\n",
    "        merger_sort(arr[midle_pointer], midle_pointer, right_pointer)\n",
    "\n",
    "        #       merge the sorted halves\n",
    "        merge(arr, left_pointer, midle_pointer, right_pointer)\n"
   ]
  },
  {
   "cell_type": "markdown",
   "metadata": {},
   "source": [
    "### 2089. Find Target Indices After Sorting Array"
   ]
  },
  {
   "cell_type": "code",
   "execution_count": null,
   "metadata": {},
   "outputs": [],
   "source": [
    "def targetIndices(nums: list[int], target: int) -> list[int]:\n",
    "    nums.sort()\n",
    "    #\n",
    "    list_result = []\n",
    "    for idx, num in enumerate(nums):\n",
    "        if num > target:\n",
    "            break\n",
    "        if num == target:\n",
    "            list_result.append(idx)\n",
    "    return list_result\n"
   ]
  },
  {
   "cell_type": "markdown",
   "metadata": {},
   "source": [
    "### 1365. How Many Numbers Are Smaller Than the Current Number"
   ]
  },
  {
   "cell_type": "code",
   "execution_count": null,
   "metadata": {},
   "outputs": [],
   "source": [
    "def smallerNumbersThanCurrent(nums: list[int]) -> list[int]:\n",
    "    result = []\n",
    "    #\n",
    "    copy_nums = []\n",
    "    for num in nums:\n",
    "        copy_nums.append(num)\n",
    "    #\n",
    "    nums.sort()\n",
    "    dict_num_replace = {}\n",
    "    for idx, num in enumerate(nums):\n",
    "        if num not in dict_num_replace:\n",
    "            dict_num_replace[num] = idx\n",
    "        else:\n",
    "            continue\n",
    "    #\n",
    "    for num in copy_nums:\n",
    "        result.append(dict_num_replace[num])\n",
    "    #\n",
    "    return result\n",
    "\n",
    "########\n",
    "list_test_cases = [\n",
    "    [8,1,2,2,3], \n",
    "    [6,5,4,8],\n",
    "    [7,7,7,7],\n",
    "    [5,0,10,0,10,6] \n",
    "]\n",
    "\n",
    "for test_case in list_test_cases:\n",
    "    output = smallerNumbersThanCurrent(test_case)\n",
    "    print(output)"
   ]
  },
  {
   "cell_type": "markdown",
   "metadata": {},
   "source": [
    "### 2545. Sort the Students by Their Kth Score"
   ]
  },
  {
   "cell_type": "code",
   "execution_count": null,
   "metadata": {},
   "outputs": [],
   "source": [
    "def sortTheStudents(score: list[list[int]], k: int) -> list[list[int]]:\n",
    "    "
   ]
  },
  {
   "cell_type": "markdown",
   "metadata": {},
   "source": [
    "### 1122. Relative Sort Array"
   ]
  },
  {
   "cell_type": "code",
   "execution_count": null,
   "metadata": {},
   "outputs": [
    {
     "name": "stdout",
     "output_type": "stream",
     "text": [
      "[2, 2, 2, 1, 4, 3, 3, 9, 6, 9, 19]\n"
     ]
    }
   ],
   "source": [
    "def relativeSortArray(arr1: list[int], arr2: list[int]) -> list[int]:\n",
    "    result = []\n",
    "    #           \n",
    "    arr1.sort()\n",
    "    #\n",
    "    dict_value_idxes = {}\n",
    "    idx = 0\n",
    "    while (idx < len(arr1)):\n",
    "        if arr1[idx] not in dict_value_idxes:\n",
    "            dict_value_idxes[arr1[idx]] = [idx]\n",
    "        else:\n",
    "            dict_value_idxes[arr1[idx]].append(idx)\n",
    "        idx += 1\n",
    "    #\n",
    "    for num in arr2:\n",
    "        list_num = [arr1[i] for i in dict_value_idxes[num]]\n",
    "        result += list_num\n",
    "    #\n",
    "    result += arr1[len(result):]\n",
    "    #\n",
    "    return result\n",
    "\n",
    "#\n",
    "arr1 = [2,3,1,3,2,4,6,7,9,2,19]\n",
    "#  \n",
    "arr2 = [2,1,4,3,9,6]\n",
    "\n",
    "tmp = relativeSortArray(arr1, arr2)\n",
    "print(tmp)\n",
    "\n"
   ]
  },
  {
   "cell_type": "markdown",
   "metadata": {},
   "source": [
    "## 5. Binary search"
   ]
  },
  {
   "cell_type": "markdown",
   "metadata": {},
   "source": [
    "+ Thuật toán search sử dụng cho sorted array bằng việc thực hiện lặp đi lặp lại việc chia nhỏ nửa tìm kiếm.\n",
    "\n",
    "+ O(log N)\n",
    "\n",
    "+ Điều kiện sử dụng:\n",
    "    - kiểu dữ liệu phải được *sorted*\n",
    "    - áp dụng cho kiểu dữ liệu:\n",
    "        - access operation: *constant*\n",
    "        - Array, string, list, hashtable/dict/hashmap\n",
    "    - không hỗ trợ với kiểu dữ liệu *không cho phép random access*"
   ]
  },
  {
   "cell_type": "markdown",
   "metadata": {},
   "source": [
    "### 704. Binary Search"
   ]
  },
  {
   "cell_type": "code",
   "execution_count": null,
   "metadata": {},
   "outputs": [],
   "source": [
    "def binary_search(input_list: list[int],\n",
    "                  low: int = None, \n",
    "                  high: int = None,\n",
    "                  item: int = None) -> bool:\n",
    "    low = 0\n",
    "    high = len(input_list) - 1\n",
    "    while (low <= high):\n",
    "        mid = low + (high - low) // 2\n",
    "        #\n",
    "        if input_list[mid] == item:\n",
    "            return mid\n",
    "        elif input_list[mid] > item:\n",
    "            high = mid - 1\n",
    "        else:\n",
    "            low = mid + 1\n",
    "    return -1\n",
    "\n",
    "# print(binary_search(range(-10, 10, 1), 7))"
   ]
  },
  {
   "cell_type": "markdown",
   "metadata": {},
   "source": [
    "### 374. Guess Number Higher or Lower"
   ]
  },
  {
   "cell_type": "code",
   "execution_count": 25,
   "metadata": {},
   "outputs": [],
   "source": [
    "def guessNumber(n: int) -> int:\n",
    "        low = 1\n",
    "        high = n\n",
    "        while (low <= high):\n",
    "            midpoint = int((low + high) / 2)\n",
    "            g = guess(midpoint)\n",
    "            if (g == 0):\n",
    "                return midpoint\n",
    "            elif g == -1:\n",
    "                high = midpoint - 1\n",
    "            else:\n",
    "                low = midpoint + 1\n",
    "        return -1"
   ]
  },
  {
   "cell_type": "code",
   "execution_count": 54,
   "metadata": {},
   "outputs": [
    {
     "name": "stdout",
     "output_type": "stream",
     "text": [
      "0\n"
     ]
    }
   ],
   "source": [
    "tmp = 100 // 5 % 2\n",
    "print(tmp)\n",
    "tmp1 = 100 % "
   ]
  },
  {
   "cell_type": "code",
   "execution_count": 71,
   "metadata": {},
   "outputs": [],
   "source": [
    "def estimate(x, y, z, m):\n",
    "    \"\"\"\n",
    "    m < y\n",
    "    \"\"\"\n",
    "    numb_candy, numb_money = 0, 0\n",
    "    if x < y:\n",
    "        return 0\n",
    "    #\n",
    "    while (x >= y):\n",
    "        numb_candy += (x // y) #  % z \n",
    "        numb_money = (x % y) +  ((x // y) // z * m)\n",
    "        x = numb_money\n",
    "    #\n",
    "    return numb_candy   "
   ]
  },
  {
   "cell_type": "code",
   "execution_count": 72,
   "metadata": {},
   "outputs": [
    {
     "name": "stdout",
     "output_type": "stream",
     "text": [
      "(100, 5, 3, 2)  ->  22\n",
      "(50, 5, 10, 3)  ->  10\n",
      "(100, 10, 3, 5)  ->  11\n",
      "(200, 15, 5, 10)  ->  14\n",
      "(10, 1, 2, 1)  ->  18\n",
      "(1000, 50, 10, 5)  ->  20\n",
      "(100, 10, 2, 3)  ->  11\n",
      "(1, 1, 2, 2)  ->  1\n",
      "(100, 5, 2, 3)  ->  27\n",
      "(100, 4, 10, 1)  ->  25\n"
     ]
    }
   ],
   "source": [
    "test_cases = [\n",
    "    # Test Case 1: Basic Case\n",
    "    (100, 5, 3, 2),  # 100 dollars, 5 per candy, exchange 3 wrappers for 2 dollars\n",
    "\n",
    "    # Test Case 2: No exchange possible\n",
    "    (50, 5, 10, 3),  # 50 dollars, 5 per candy, but need 10 wrappers for exchange\n",
    "\n",
    "    # Test Case 3: Wrapper to dollar exchange gives enough money for more candies\n",
    "    (100, 10, 3, 5),  # 100 dollars, 10 per candy, exchange 3 wrappers for 5 dollars\n",
    "\n",
    "    # Test Case 4: No wrappers to exchange (even if you buy many candies)\n",
    "    (200, 15, 5, 10),  # 200 dollars, 15 per candy, need 5 wrappers for exchange\n",
    "\n",
    "    # Test Case 5: Small values for all variables\n",
    "    (10, 1, 2, 1),  # 10 dollars, 1 per candy, exchange 2 wrappers for 1 dollar\n",
    "\n",
    "    # Test Case 6: Large value for money, no wrapper exchange\n",
    "    (1000, 50, 10, 5),  # 1000 dollars, 50 per candy, need 10 wrappers for exchange\n",
    "\n",
    "    # Test Case 7: Exchange can go on for several cycles\n",
    "    (100, 10, 2, 3),  # 100 dollars, 10 per candy, exchange 2 wrappers for 3 dollars\n",
    "\n",
    "    # Test Case 8: Edge case with minimal dollars\n",
    "    (1, 1, 2, 2),  # 1 dollar, 1 per candy, need 2 wrappers for exchange (can't exchange)\n",
    "\n",
    "    # # Test Case 9: Exchange rate is very favorable\n",
    "    (100, 5, 2, 3),  # 100 dollars, 5 per candy, exchange 2 wrappers for 10 dollars\n",
    "\n",
    "    # # Test Case 10: Large number of wrappers needed for minimal exchange rate\n",
    "    (100, 4, 10, 1),  # 100 dollars, 4 per candy, need 10 wrappers for 1 dollar\n",
    "]\n",
    "#\n",
    "for test_case in test_cases:\n",
    "    x, y, z, m = test_case\n",
    "    numb_candy = estimate(x, y, z, m)\n",
    "    print(test_case, ' -> ', numb_candy)"
   ]
  },
  {
   "cell_type": "markdown",
   "metadata": {},
   "source": [
    "### 367. Valid Perfect Square"
   ]
  },
  {
   "cell_type": "code",
   "execution_count": 1,
   "metadata": {},
   "outputs": [
    {
     "name": "stdout",
     "output_type": "stream",
     "text": [
      "81 True\n"
     ]
    }
   ],
   "source": [
    "def isPerfectSquare(num: int) -> bool:\n",
    "    low_value = 1\n",
    "    high_value = num\n",
    "    while (low_value <= high_value):\n",
    "        mid_value = low_value + (high_value - low_value) // 2\n",
    "        if mid_value**2 == num:\n",
    "            return True\n",
    "        elif mid_value**2 > num:\n",
    "            high_value = mid_value - 1\n",
    "        else:\n",
    "            low_value = mid_value + 1\n",
    "    return False\n",
    "    \n",
    "        \n",
    "\n",
    "test_cases = [81] # 16, 14, 90, \n",
    "for test_case in test_cases:\n",
    "    print(test_case, isPerfectSquare(test_case))"
   ]
  },
  {
   "cell_type": "markdown",
   "metadata": {},
   "source": [
    "### 441. Arranging Coins\n",
    "TODO: làm lại"
   ]
  },
  {
   "cell_type": "code",
   "execution_count": 3,
   "metadata": {},
   "outputs": [
    {
     "name": "stdout",
     "output_type": "stream",
     "text": [
      "3\n"
     ]
    }
   ],
   "source": [
    "def sum_range(n: int) -> int:\n",
    "    return n*(n + 1)//2\n",
    "\n",
    "def arrangeCoins(n: int) -> int:\n",
    "    #       Navie: O(n)\n",
    "    # sum = 0\n",
    "    # numb_star = n\n",
    "    # for i in range(1, n + 1):\n",
    "    #     sum += i\n",
    "    #     numb_star = n - sum\n",
    "    #     #\n",
    "    #     if numb_star <= i:\n",
    "    #         return i\n",
    "    #       Binary search\n",
    "    low = 1\n",
    "    high = n\n",
    "    result = 0\n",
    "    while (low <= high):\n",
    "        mid = (low + high) // 2\n",
    "    #   \n",
    "        if sum_range(mid) <= n:\n",
    "            result = mid\n",
    "            low = mid + 1\n",
    "        else:\n",
    "            high = mid - 1\n",
    "    return result       # low - 1\n",
    "\n",
    "    \n",
    "\n",
    "print(arrangeCoins(8))"
   ]
  },
  {
   "cell_type": "markdown",
   "metadata": {},
   "source": [
    "### 33. Search in Rotated Sorted Array"
   ]
  },
  {
   "cell_type": "code",
   "execution_count": null,
   "metadata": {},
   "outputs": [
    {
     "data": {
      "text/plain": [
       "4"
      ]
     },
     "execution_count": 12,
     "metadata": {},
     "output_type": "execute_result"
    }
   ],
   "source": [
    "def search(nums: list[int], target: int) -> int:\n",
    "        \"\"\"\n",
    "        - is possibly rotated at an unknown pivot index : xoay truc \n",
    "        \"\"\"\n",
    "        left_point = 0\n",
    "        right_point = len(nums) - 1\n",
    "        #       find i-th index start smaller\n",
    "        while (left_point <= right_point):\n",
    "            mid_point = left_point + (right_point - left_point) // 2\n",
    "            if nums[mid_point] == target:\n",
    "                return mid_point\n",
    "            if nums[left_point] <= nums[mid_point]:\n",
    "                if nums[left_point] <= target and target < nums[mid_point]:\n",
    "                    #       start to mid is sorted\n",
    "                    right_point = mid_point - 1\n",
    "                else:\n",
    "                    left_point = mid_point + 1\n",
    "            elif nums[mid_point] < target and target <= nums[right_point]:\n",
    "                #       mid to end is sorted\n",
    "                left_point = mid_point + 1\n",
    "            else:\n",
    "                right_point = mid_point - 1\n",
    "        return -1\n",
    "            \n",
    "search([4,5,6,7,0,1,2], 0)"
   ]
  },
  {
   "cell_type": "markdown",
   "metadata": {},
   "source": [
    "### 540. Single Element in a Sorted Array"
   ]
  },
  {
   "cell_type": "code",
   "execution_count": null,
   "metadata": {},
   "outputs": [],
   "source": [
    "def singleNonDuplicate(nums: list[int]) -> int:\n",
    "    if len(nums) < 2:\n",
    "        return nums[0]\n",
    "    low = 0\n",
    "    high = len(nums) - 1\n",
    "    while (low < high):\n",
    "        mid = low + (high - low) // 2\n",
    "        if nums[mid] == nums[mid ^ 1]:\n",
    "            low = mid + 1\n",
    "        else:\n",
    "            high = mid\n",
    "    return nums[low]\n"
   ]
  },
  {
   "cell_type": "markdown",
   "metadata": {},
   "source": [
    "### 278. First Bad Version"
   ]
  },
  {
   "cell_type": "code",
   "execution_count": 1,
   "metadata": {},
   "outputs": [],
   "source": [
    "def firstBadVersion(n: int) -> int:\n",
    "    #\n",
    "    if n == 1:\n",
    "        if isBadVersion(1):\n",
    "            return 1\n",
    "    #\n",
    "    low, high = 1, n\n",
    "    while low < high:  #  điều kiện dừng: <= khi xác định 1 vị trí thay vì phải đi hết mảng (<)\n",
    "        mid = (low + high) // 2\n",
    "        if isBadVersion(mid):\n",
    "            #       first bad version - left arr\n",
    "            high = mid\n",
    "        else:\n",
    "            low = mid + 1\n",
    "    #\n",
    "    return low"
   ]
  },
  {
   "cell_type": "markdown",
   "metadata": {},
   "source": [
    "### 35. Search Insert Position"
   ]
  },
  {
   "cell_type": "markdown",
   "metadata": {},
   "source": [
    "### 34. Find First and Last Position of Element in Sorted Array"
   ]
  },
  {
   "cell_type": "markdown",
   "metadata": {},
   "source": [
    "### 74. Search a 2D Matrix"
   ]
  },
  {
   "cell_type": "markdown",
   "metadata": {},
   "source": [
    "### 2300. Successful Pairs of Spells and Potions"
   ]
  },
  {
   "cell_type": "markdown",
   "metadata": {},
   "source": [
    "## 6: Hash map"
   ]
  },
  {
   "cell_type": "markdown",
   "metadata": {},
   "source": [
    "\n",
    "+ Time complexity:\n",
    "    - Search - O(1)\n",
    "    - Insert - O(1)\n",
    "    - Remove - O(1)\n",
    "\n",
    "+ Trong python, *key* phải có giá trị *bất biến*:\n",
    "    - int/float/str/bool\n",
    "    - tuple             ~> tuple([1, 2, 3])\n",
    "    - frozenset         ~> frozenset({1, 2, 3})\n",
    "\n",
    "+ Improve:\n",
    "    ```\n",
    "    if tuple_chars not in dict_idx_setChars:\n",
    "        dict_idx_setChars[tuple_chars] = [idx]\n",
    "    else:\n",
    "        dict_idx_setChars[tuple_chars].append(idx)\n",
    "    \n",
    "    #       Better\n",
    "    dict_idx_setChars.setdefault(tuple_chars, []).append(idx)\n",
    "    ```\n",
    "\n",
    "+ tham khao:\n",
    "```\n",
    "def sum_digits(n: int) -> int:\n",
    "    n = abs(n)\n",
    "    total = 0\n",
    "    while n > 0:\n",
    "        total += n % 10\n",
    "        n //= 10\n",
    "    return total\n",
    "```\n",
    "\n",
    "\n",
    "**Questions**:\n",
    "+ những kiểu dữ liệu/thuật toán sẽ quan tâm đến độ phức tạp thuật toán worst case ?"
   ]
  },
  {
   "cell_type": "markdown",
   "metadata": {},
   "source": [
    "### 1. Two Sum"
   ]
  },
  {
   "cell_type": "code",
   "execution_count": 1,
   "metadata": {},
   "outputs": [],
   "source": [
    "def twoSum(nums: list[int], target: int) -> list[int]:\n",
    "    dict_value_idx = {}\n",
    "    for idx, num in enumerate(nums):\n",
    "        if num not in dict_value_idx.keys():\n",
    "            dict_value_idx[target - num] = idx\n",
    "        else:\n",
    "            return [idx, dict_value_idx[num]]\n",
    "    return {-1, -1}"
   ]
  },
  {
   "cell_type": "markdown",
   "metadata": {},
   "source": [
    "### 1748. Sum of Unique elements"
   ]
  },
  {
   "cell_type": "code",
   "execution_count": 2,
   "metadata": {},
   "outputs": [],
   "source": [
    "def sumOfUnique(nums: list[int]) -> int:\n",
    "    dict_value_idx = {}\n",
    "    sum_of_unique = 0\n",
    "    #  True/False => 2*N\n",
    "    for idx, num in enumerate(nums):\n",
    "        if num not in dict_value_idx.keys():\n",
    "            dict_value_idx[num] = 1\n",
    "        else:\n",
    "            dict_value_idx[num] = 0\n",
    "    #\n",
    "    for element in dict_value_idx:\n",
    "        if dict_value_idx[element]:\n",
    "            sum_of_unique += element\n",
    "\n",
    "    return sum_of_unique"
   ]
  },
  {
   "cell_type": "markdown",
   "metadata": {},
   "source": [
    "### 383. Ransom Note"
   ]
  },
  {
   "cell_type": "markdown",
   "metadata": {},
   "source": [
    "+ Cách khác là tạo đếm số kí tự trong cả 2 chuỗi string.\n",
    "    - thay vì kiểm tra lại số kí tự trong str 2 có xuất hiện trong str 1 thì hãy check trong 1 tập **giới hạn các phần tử** mà 2 string bắt buộc phải tuân theo. \n",
    "    - **dựa vào điều kiện của đề bài để giảm thời gian**"
   ]
  },
  {
   "cell_type": "code",
   "execution_count": 3,
   "metadata": {},
   "outputs": [],
   "source": [
    "def canConstruct(ransomNote: str, magazine: str) -> bool:\n",
    "    dict_char_magazine = {}\n",
    "    # for char in (magazine):\n",
    "    #     if char not in dict_char_magazine.keys():\n",
    "    #         dict_char_magazine[char] = 1\n",
    "    #     else:\n",
    "    #         dict_char_magazine[char] = dict_char_magazine[char] + 1\n",
    "    #           short version\n",
    "    for char in magazine:\n",
    "        dict_char_magazine[char] = dict_char_magazine.get(char, 0) + 1\n",
    "    #\n",
    "    for char in (ransomNote):\n",
    "        if char not in dict_char_magazine.keys() or dict_char_magazine[char] <= 0:\n",
    "            return False\n",
    "        dict_char_magazine[char] -= 1\n",
    "    return True"
   ]
  },
  {
   "cell_type": "markdown",
   "metadata": {},
   "source": [
    "### 49. Group anagrams "
   ]
  },
  {
   "cell_type": "code",
   "execution_count": 13,
   "metadata": {},
   "outputs": [],
   "source": [
    "def groupAnagrams(strs: list[str]) -> list[list[str]]:\n",
    "    \"\"\"\n",
    "    NOTE: \n",
    "        + set.intersection(s1, s2) O(min(len(s1), len(s2)))\n",
    "        + IMPORTANT: key - immutable\n",
    "    \"\"\"\n",
    "    list_group_anagrams = []\n",
    "    #\n",
    "    dict_idx_setChars = {}\n",
    "    for idx, s in enumerate(strs):\n",
    "        tuple_chars =  tuple(sorted(list(s)))\n",
    "        # if tuple_chars not in dict_idx_setChars:\n",
    "        #     dict_idx_setChars[tuple_chars] = [idx]\n",
    "        # else:\n",
    "        #     dict_idx_setChars[tuple_chars].append(idx)\n",
    "        dict_idx_setChars.setdefault(tuple_chars, []).append(idx)\n",
    "    #\n",
    "    for e in dict_idx_setChars:\n",
    "        list_strs = []\n",
    "        for str_idx in dict_idx_setChars[e]:\n",
    "            list_strs.append(strs[str_idx])\n",
    "        list_group_anagrams.append(list_strs)\n",
    "    #\n",
    "    return list_group_anagrams"
   ]
  },
  {
   "cell_type": "code",
   "execution_count": 16,
   "metadata": {},
   "outputs": [
    {
     "name": "stdout",
     "output_type": "stream",
     "text": [
      "[['eat', 'tea', 'ate'], ['tan', 'nat'], ['bat']]\n"
     ]
    }
   ],
   "source": [
    "strs = [\"eat\",\"tea\",\"tan\",\"ate\",\"nat\",\"bat\"]\n",
    "# strs = [\"\"]\n",
    "# strs = [\"a\"]\n",
    "#\n",
    "results = groupAnagrams(strs)\n",
    "print(results)"
   ]
  },
  {
   "cell_type": "markdown",
   "metadata": {},
   "source": [
    "### 1394. Find Lucky Integer in an Array"
   ]
  },
  {
   "cell_type": "code",
   "execution_count": null,
   "metadata": {},
   "outputs": [],
   "source": [
    "def findLucky(arr: list[int]) -> int:\n",
    "    \"\"\" \n",
    "    the element of arr > 0 ?\n",
    "    \"\"\"\n",
    "    if len(arr) < 2:\n",
    "        return -1 \n",
    "    #\n",
    "    dict_value_count = {}\n",
    "    for numb in arr:\n",
    "        if numb not in dict_value_count:\n",
    "            dict_value_count[numb] = 1\n",
    "        else:\n",
    "            dict_value_count[numb] += 1\n",
    "    # \n",
    "    list_lucky_values = []\n",
    "    for value in dict_value_count:\n",
    "        if value == dict_value_count[value]:\n",
    "            list_lucky_values.append(value)\n",
    "    if len(list_lucky_values) < 1:\n",
    "        return -1\n",
    "    else:\n",
    "        list_lucky_values.sort()\n",
    "        return list_lucky_values[-1]"
   ]
  },
  {
   "cell_type": "code",
   "execution_count": 21,
   "metadata": {},
   "outputs": [
    {
     "name": "stdout",
     "output_type": "stream",
     "text": [
      "-1\n"
     ]
    }
   ],
   "source": [
    "arr = [2,2,2,3,3]\n",
    "#\n",
    "tmp = findLucky(arr)\n",
    "print(tmp)"
   ]
  },
  {
   "cell_type": "markdown",
   "metadata": {},
   "source": [
    "### 1742. Maximum Number of Balls in a Box"
   ]
  },
  {
   "cell_type": "code",
   "execution_count": 27,
   "metadata": {},
   "outputs": [],
   "source": [
    "def sum_digits(n: int) -> int:\n",
    "    n = abs(n)\n",
    "    total = 0\n",
    "    while n > 0:\n",
    "        total += n % 10\n",
    "        n //= 10\n",
    "    return total\n",
    "\n",
    "def countBalls(lowLimit: int, highLimit: int) -> int:\n",
    "    max_ball_count = 0\n",
    "    dict_ball_count = {}\n",
    "    for numb_box in range(lowLimit, highLimit + 1):\n",
    "        numb_ball = sum_digits(numb_box)\n",
    "        #\n",
    "        if numb_ball not in dict_ball_count:\n",
    "            dict_ball_count[numb_ball] = 1\n",
    "        else:\n",
    "            dict_ball_count[numb_ball] += 1\n",
    "    for numb_ball in dict_ball_count:\n",
    "        if max_ball_count < dict_ball_count[numb_ball]:\n",
    "            max_ball_count = dict_ball_count[numb_ball]\n",
    "    return max_ball_count\n"
   ]
  },
  {
   "cell_type": "code",
   "execution_count": 30,
   "metadata": {},
   "outputs": [
    {
     "name": "stdout",
     "output_type": "stream",
     "text": [
      "2\n"
     ]
    }
   ],
   "source": [
    "lowLimit = 19\n",
    "highLimit = 28\n",
    "#\n",
    "result = countBalls(lowLimit, highLimit)\n",
    "print(result)"
   ]
  },
  {
   "cell_type": "markdown",
   "metadata": {},
   "source": [
    "### 771. Jewels and Stones"
   ]
  },
  {
   "cell_type": "code",
   "execution_count": null,
   "metadata": {},
   "outputs": [],
   "source": [
    "def numJewelsInStones(jewels: str, stones: str) -> int:\n",
    "    list_chars = set(list(jewels))\n",
    "    #\n",
    "    total = 0\n",
    "    for c in list(stones):\n",
    "        if c in list_chars:\n",
    "            total += 1\n",
    "    return total"
   ]
  },
  {
   "cell_type": "code",
   "execution_count": 43,
   "metadata": {},
   "outputs": [
    {
     "name": "stdout",
     "output_type": "stream",
     "text": [
      "0\n"
     ]
    }
   ],
   "source": [
    "jewels = \"z\"\n",
    "stones = \"ZZ\"\n",
    "#\n",
    "total = numJewelsInStones(jewels, stones)\n",
    "print(total)"
   ]
  },
  {
   "cell_type": "markdown",
   "metadata": {},
   "source": [
    "### 2405. Optimal Partition of String"
   ]
  },
  {
   "cell_type": "markdown",
   "metadata": {},
   "source": [
    "### Design hashmap"
   ]
  },
  {
   "cell_type": "markdown",
   "metadata": {},
   "source": [
    "### Fraction to recurring decimal"
   ]
  },
  {
   "cell_type": "markdown",
   "metadata": {},
   "source": [
    "### Logger rate limiter"
   ]
  },
  {
   "cell_type": "markdown",
   "metadata": {},
   "source": [
    "### Next greater element I"
   ]
  },
  {
   "cell_type": "markdown",
   "metadata": {},
   "source": [
    "### Isonorphic strings"
   ]
  },
  {
   "cell_type": "markdown",
   "metadata": {},
   "source": [
    "### Find duplicate file in system"
   ]
  },
  {
   "cell_type": "markdown",
   "metadata": {},
   "source": [
    "### Dot product of two sparse vectors"
   ]
  },
  {
   "cell_type": "markdown",
   "metadata": {},
   "source": [
    "### High five"
   ]
  },
  {
   "cell_type": "markdown",
   "metadata": {},
   "source": [
    "### Bulls & cows"
   ]
  },
  {
   "cell_type": "markdown",
   "metadata": {},
   "source": [
    "## 7: Linked list"
   ]
  },
  {
   "cell_type": "markdown",
   "metadata": {},
   "source": [
    "+ So sanh array vs linked list\n",
    "    | Array | Linked lists |\n",
    "    |-------|--------------|\n",
    "    | Stored in contiguous location | Not stored in contiguous location |\n",
    "    | Fixed in size | Dynamic in size |\n",
    "    | memory is allocated at compile time | memory is allocated at run time |\n",
    "    | Use less more memory | - |\n",
    "    | elements can be accessed easily | element accessing requried the traversal of whole linked list |\n",
    "    | - | insertion and deletion operation is faster |\n",
    "\n",
    "\n",
    "+ Operators:\n",
    "    - access to an element\n",
    "    - find a value\n",
    "    - insert a new value\n",
    "    - delete a value or a node\n",
    "    - reverse the linked list\n",
    "    - partition a linked list\n",
    "    - merge two linked list\n",
    "\n",
    "![Double linked list](./figures/double_linked_list.png)\n",
    "\n",
    "+ Refer: [Data structure](https://github.com/TheAlgorithms/Python/tree/master/data_structures)"
   ]
  },
  {
   "cell_type": "code",
   "execution_count": 1,
   "metadata": {},
   "outputs": [],
   "source": [
    "from typing import Optional\n",
    "\n",
    "class Node:\n",
    "    def __init__(self, val=0, prev=None, next=None):\n",
    "        self.val = val\n",
    "        self.next = next\n",
    "        self.prev = prev\n",
    "\n",
    "class SingleLinkedList:\n",
    "    def __init__(self):\n",
    "        self.__head = Node()\n",
    "\n",
    "    def insert(self, value: int=0):\n",
    "        \"\"\" \n",
    "        (1) Create new node\n",
    "        (2) point new node point to same address with head node\n",
    "        (3) assign: head node point to new node\n",
    "        \"\"\"\n",
    "        new_node = Node(val=value)\n",
    "        new_node.next = self.__head.next\n",
    "        self.__head.next = new_node\n",
    "\n",
    "    def repr(self):\n",
    "        node = self.__head.next\n",
    "        while node:\n",
    "            print(node.val)\n",
    "            node = node.next\n",
    "\n",
    "    def delete(self, delnode):\n",
    "        #       find del node\n",
    "        node = self.__head.next\n",
    "        prev_node = self.__head\n",
    "        while node:\n",
    "            if node == delnode:\n",
    "                prev_node.next = delnode.next\n",
    "                break\n",
    "            prev_node = node\n",
    "            node = node.next\n",
    "\n",
    "\n",
    "\n",
    "class DoubleLinkedList:\n",
    "    def __init__(self):\n",
    "        self.__head = Node()\n",
    "        self.__tail = Node()\n",
    "        self.__tail.prev = self.__head\n",
    "        self.__head.next = self.__tail\n",
    "\n",
    "    def insert(self, value: int=0):\n",
    "        \"\"\" \n",
    "        (1) Create a new node with the given value.\n",
    "        (2) Update the next pointer of the new node to point to the next node of the head. ~ Cập nhật con trỏ next của node mới trỏ đến node kế tiếp của head\n",
    "        (3) Update the prev pointer of the next node to point back to the new node. ~ Cập nhật con trỏ prev của node tiếp theo để trỏ về node mới\n",
    "        (4) Update the next pointer of the head to point to the new node. ~ Cập nhật con trỏ next của head để trỏ đến node mới\n",
    "        (5) Update the prev pointer of the new node to point back to the head. ~ Cập nhật con trỏ prev của node mới để trỏ về head\n",
    "        \"\"\" \n",
    "        new_node = Node(val=value)\n",
    "        new_node.next = self.__head.next\n",
    "        new_node.next.prev = new_node\n",
    "        self.__head.next = new_node\n",
    "        new_node.prev = self.__head\n",
    "\n",
    "    def repr(self):\n",
    "        node = self.__head.next\n",
    "        while node is not self.__tail:\n",
    "            print(node.val)\n",
    "            node = node.next\n",
    "\n",
    "    def append(self, value: int):\n",
    "        \"\"\" \n",
    "        add to the end of the list\n",
    "        \"\"\"\n",
    "        new_node = Node(value)\n",
    "        new_node.next = self.__tail\n",
    "        new_node.prev = self.__tail.prev\n",
    "        new_node.prev.next = new_node\n",
    "        self.__tail.prev = new_node\n",
    "\n",
    "    def delete(self, delnode: Node):\n",
    "        delnode.prev.next = delnode.next\n",
    "        delnode.next.prev = delnode.prev\n",
    "        delnode = None\n",
    "    \n",
    "# Definition for singly-linked list.\n",
    "class ListNode:\n",
    "    def __init__(self, val=0, next=None):\n",
    "        self.val = val\n",
    "        self.next = next"
   ]
  },
  {
   "cell_type": "markdown",
   "metadata": {},
   "source": [
    "### 206. Reverse Linked List"
   ]
  },
  {
   "cell_type": "code",
   "execution_count": null,
   "metadata": {},
   "outputs": [],
   "source": [
    "def reverseList(head: list[ListNode]) -> list[ListNode]:\n",
    "    \"\"\"\n",
    "    idea: duyệt qua từng node & thay đổi hướng con trỏ next.\n",
    "        next = cur.next\n",
    "        cur.next = prev.next\n",
    "        prev = current & current = next \n",
    "    \"\"\"\n",
    "    prev_node = None\n",
    "    cur_node = head\n",
    "    while cur_node:\n",
    "        next_node = cur_node.next\n",
    "        #   reverse\n",
    "        cur_node.next = prev_node\n",
    "        #   swap {prev_node, next_node}\n",
    "        prev_node = cur_node\n",
    "        cur_node = next_node\n",
    "    return prev_node\n"
   ]
  },
  {
   "cell_type": "markdown",
   "metadata": {},
   "source": [
    "### 203. Remove Linked List Elements"
   ]
  },
  {
   "cell_type": "code",
   "execution_count": null,
   "metadata": {},
   "outputs": [],
   "source": [
    "class Solution:\n",
    "    def removeElements(self, head: Optional[ListNode], val: int) -> Optional[ListNode]:\n",
    "        #\n",
    "        node = head.next\n",
    "        pre_node = head\n",
    "        while node:\n",
    "            if node == del_node:\n",
    "                pre_node.next = del_node.next\n",
    "                break\n",
    "            prev_node = node\n",
    "            node = node.next\n",
    "        return prev_node"
   ]
  },
  {
   "cell_type": "markdown",
   "metadata": {},
   "source": [
    "### 160. Intersection of two linked list"
   ]
  },
  {
   "cell_type": "code",
   "execution_count": null,
   "metadata": {},
   "outputs": [],
   "source": [
    "# Definition for singly-linked list.\n",
    "# class ListNode:\n",
    "#     def __init__(self, x):\n",
    "#         self.val = x\n",
    "#         self.next = None\n",
    "\n",
    "class Solution:\n",
    "    def getIntersectionNode(self, headA: ListNode, headB: ListNode) -> Optional[ListNode]:\n",
    "        "
   ]
  },
  {
   "cell_type": "markdown",
   "metadata": {},
   "source": [
    "### 21. Merge Two Sorted Lists"
   ]
  },
  {
   "cell_type": "markdown",
   "metadata": {},
   "source": [
    "### 234. Palindrome Linked List"
   ]
  },
  {
   "cell_type": "markdown",
   "metadata": {},
   "source": [
    "### 876. Middle of the linked list"
   ]
  },
  {
   "cell_type": "markdown",
   "metadata": {},
   "source": [
    "### 25. Reverse Nodes in k-Group"
   ]
  },
  {
   "cell_type": "markdown",
   "metadata": {},
   "source": [
    "### 92. Reverse Linked List II"
   ]
  },
  {
   "cell_type": "markdown",
   "metadata": {},
   "source": [
    "### 143. Reorder List"
   ]
  },
  {
   "cell_type": "markdown",
   "metadata": {},
   "source": [
    "### 146. LRU Cache"
   ]
  },
  {
   "cell_type": "markdown",
   "metadata": {},
   "source": [
    "### 460. LFU Cache"
   ]
  },
  {
   "cell_type": "markdown",
   "metadata": {},
   "source": [
    "### 1429. First Unique Number"
   ]
  },
  {
   "cell_type": "markdown",
   "metadata": {},
   "source": [
    "### 716. Max Stack"
   ]
  },
  {
   "cell_type": "markdown",
   "metadata": {},
   "source": [
    "### 1721. Swapping Nodes in a Linked List"
   ]
  },
  {
   "cell_type": "markdown",
   "metadata": {},
   "source": [
    "### 2074. Reverse Nodes in Even Length Groups"
   ]
  },
  {
   "cell_type": "markdown",
   "metadata": {},
   "source": [
    "### 83. Remove Duplicates from Sorted List"
   ]
  },
  {
   "cell_type": "markdown",
   "metadata": {},
   "source": [
    "### 203. Remove Linked List Elements"
   ]
  },
  {
   "cell_type": "markdown",
   "metadata": {},
   "source": [
    "### 725. Split Linked List in Parts"
   ]
  },
  {
   "cell_type": "markdown",
   "metadata": {},
   "source": [
    "### 24. Swap Nodes in Pairs"
   ]
  },
  {
   "cell_type": "markdown",
   "metadata": {},
   "source": [
    "\n",
    "+ DLL:\n",
    " https://leetcode.com/problems/max-stack/\n",
    " https://leetcode.com/problems/lfu-cache/description/\n",
    " https://leetcode.com/problems/first-unique-number/\n",
    " https://leetcode.com/tag/doubly-linked-list/\n"
   ]
  },
  {
   "cell_type": "markdown",
   "metadata": {},
   "source": [
    "### 426. Convert Binary Search Tree to Sorted Doubly Linked List"
   ]
  },
  {
   "cell_type": "markdown",
   "metadata": {},
   "source": [
    "### 430. Flatten a Multilevel Doubly Linked List"
   ]
  },
  {
   "cell_type": "markdown",
   "metadata": {},
   "source": [
    "### 432. All O`one Data Structure"
   ]
  },
  {
   "cell_type": "markdown",
   "metadata": {},
   "source": [
    "### 1472. Design Browser History"
   ]
  },
  {
   "cell_type": "markdown",
   "metadata": {},
   "source": [
    "### 1797. Design Authentication Manager"
   ]
  },
  {
   "cell_type": "markdown",
   "metadata": {},
   "source": [
    "### 2296. Design a Text Editor"
   ]
  },
  {
   "cell_type": "markdown",
   "metadata": {},
   "source": [
    "### 3263 - Convert Doubly Linked List to Array I"
   ]
  },
  {
   "cell_type": "markdown",
   "metadata": {},
   "source": [
    "### 3294 - Convert Doubly Linked List to Array II"
   ]
  },
  {
   "cell_type": "markdown",
   "metadata": {},
   "source": [
    "## 08: Stack & Queue"
   ]
  },
  {
   "cell_type": "markdown",
   "metadata": {},
   "source": [
    "\n",
    "![Stack & queue](./figures/stack_queue.png)\n",
    "\n",
    "\n",
    "+ Operations on stack:\n",
    "\n",
    "    | Operation | Stack |Description |\n",
    "    |-----------|-------|-------------|\n",
    "    | push | stack.append(x) | Thêm phần tử x vào đỉnh stack |\n",
    "    | pop | stack.pop() | Xóa và trả về phần tử ở đỉnh stack |\n",
    "    | peek/top | stack[-1] | Xem phần tử ở đỉnh stack mà không xóa |\n",
    "    | empty | len(stack) == 0 hoặc not stack | Kiểm tra stack có rỗng không |\n",
    "\n",
    "\n",
    "+ Operations on queue:\n",
    "\n",
    "    | Operation | queue |Description |\n",
    "    |-----------|-------|-------------|\n",
    "    | push/enqueue/add | queue.append(x) | Adds x to the right end of the deque. |\n",
    "    | push/enqueue/add | queue.appendleft(x) | Adds x to the left end of the deque. |  \n",
    "    | pop/dequeue/poll | queue.pop() | Removes and returns an element from the right end of the deque. |\n",
    "    | pop/dequeue/poll | queue.popleft() | Removes and returns an element from the left end of the deque. |\n",
    "    | peek/front/first | queue[0] | Xem phần tử ở đầu queue mà không xóa |\n",
    "    | last/rear | queue[-1] | Xem phần tử ở cuối queue mà không xóa |\n",
    "    | empty | len(queue) == 0 hoặc not queue | Kiểm tra queue có rỗng không |\n",
    "    | clear | queue.clear() | Xóa tất cả phần tử trong queue |\n",
    "\n",
    "\n",
    "+ All operations: **O(1)**\n",
    "\n",
    "+ In python:\n",
    "    - stack: \n",
    "        ```\n",
    "        list -> append/pop\n",
    "        ```\n",
    "    - queue: \n",
    "        ```\n",
    "        from collections import deque\n",
    "        ```\n",
    "\n",
    "+ Use a stack when:\n",
    "    - LIFO - last in first out.\n",
    "    - keep track of nested structures\n",
    "    - keeping history or undoing is necessary\n",
    "    - parse or evaluate expressions\n",
    "\n",
    "+ Use a queue when:\n",
    "    - FIFO - First in, first out.\n",
    "    - Need to schedule processing order (BFS)\n",
    "    \n",
    "\n",
    "![convert list to stack & queue](./figures/list_to_stack_queue.jpg)"
   ]
  },
  {
   "cell_type": "code",
   "execution_count": 6,
   "metadata": {},
   "outputs": [
    {
     "name": "stdout",
     "output_type": "stream",
     "text": [
      "deque([1, 2, 3]) 3\n",
      "1\n"
     ]
    }
   ],
   "source": [
    "from collections import deque\n",
    "\n",
    "test_queue_1 = deque()\n",
    "test_queue_2 = deque()\n",
    "\n",
    "test_list = [1, 2, 3]\n",
    "for n in test_list:\n",
    "    test_queue_1.append(n)\n",
    "    test_queue_2.appendleft(n)\n",
    "print(test_queue_1, test_queue_2[0])\n",
    "right_element = test_queue_2.pop()\n",
    "print(right_element)\n"
   ]
  },
  {
   "cell_type": "markdown",
   "metadata": {},
   "source": [
    "### 20. Valid Parentheses"
   ]
  },
  {
   "cell_type": "code",
   "execution_count": 17,
   "metadata": {},
   "outputs": [
    {
     "name": "stdout",
     "output_type": "stream",
     "text": [
      "True\n",
      "True\n",
      "False\n",
      "True\n",
      "False\n"
     ]
    }
   ],
   "source": [
    "def isValid(s: str) -> bool:\n",
    "    \"\"\"\n",
    "    + Analysis:\n",
    "        - open brackets:\n",
    "            - close by same type of brackets\n",
    "            - close in the correct order\n",
    "    + Constraints of s:\n",
    "        - length                      -> \n",
    "        - contains : \n",
    "            ? number & alpha charater  -> \n",
    "            - space ?\n",
    "            - empty ?\n",
    "    + Example:\n",
    "        - () | [{}] | c[b{ a}] | ()[]{}\n",
    "    + Solution:\n",
    "        - naive approach:\n",
    "        - optimizer approach:\n",
    "    \"\"\"\n",
    "    if len(s) % 2:      # check len s chan hay le\n",
    "        return False\n",
    "    #\n",
    "    brackets = {\n",
    "        \"{\": \"}\",\n",
    "        \"[\": \"]\",\n",
    "        \"(\": \")\",\n",
    "    }\n",
    "    list_symbols = list(s)\n",
    "    #   LI-FO => stack\n",
    "    list_open_brackets = []\n",
    "    for c in list_symbols:\n",
    "        if c in brackets.keys():\n",
    "            list_open_brackets.append(c)\n",
    "        else:\n",
    "            if len(list_open_brackets) == 0 or brackets[list_open_brackets[-1]] != c:\n",
    "                return False\n",
    "            else:\n",
    "                list_open_brackets.pop()\n",
    "    return len(list_open_brackets) == 0\n",
    "\n",
    "list_s = [\n",
    "    \"()\",\n",
    "    \"[{}]\",\n",
    "    \"[\",\n",
    "    \"()[]{}\",\n",
    "    \"}[]\"\n",
    "]\n",
    "\n",
    "for s in list_s:\n",
    "    print(isValid(s))"
   ]
  },
  {
   "cell_type": "markdown",
   "metadata": {},
   "source": [
    "### 1700. Number of Students Unable to Eat Lunch"
   ]
  },
  {
   "cell_type": "code",
   "execution_count": 18,
   "metadata": {},
   "outputs": [
    {
     "name": "stdout",
     "output_type": "stream",
     "text": [
      "0\n"
     ]
    }
   ],
   "source": [
    "from collections import deque\n",
    "\n",
    "def countStudents(students: list[int], sandwiches: list[int]) -> int:\n",
    "    \"\"\"\n",
    "    deque().append() -> add right end\n",
    "\n",
    "    std: student\n",
    "    sw: sandwich\n",
    "    \"\"\"\n",
    "    std_queue = deque()\n",
    "    sandwich_stack = []\n",
    "    for i in range(len(students)):\n",
    "        std_queue.append(students[i])\n",
    "        sandwich_stack.append(sandwiches[len(students) - i - 1])\n",
    "    #\n",
    "    last_served = 0\n",
    "    while last_served < len(students) and len(std_queue) > 0:\n",
    "        if sandwich_stack[-1] == std_queue[0]:\n",
    "            sandwich_stack.pop()\n",
    "            std_queue.popleft()\n",
    "            last_served = 0\n",
    "        else:\n",
    "            std_queue.append(std_queue.popleft())\n",
    "            last_served += 1\n",
    "    return len(std_queue)\n",
    "\n",
    "# students = [1,1,0,0]\n",
    "# sandwiches = [0,1,0,1]\n",
    "students = [1, 2, 3, 4]\n",
    "sandwiches = [1, 2, 3, 4]\n",
    "\n",
    "# students = [1,1,1,0,0,1], sandwiches = [1,0,0,0,1,1]\n",
    "\n",
    "numb_std = countStudents(students, sandwiches)\n",
    "print(numb_std)"
   ]
  },
  {
   "cell_type": "markdown",
   "metadata": {},
   "source": [
    "+ O*ptimizer: ordering of student not important*\n",
    "    - phân tích nhu cầu của student (k.h) [numb_0, numb_1] -> for each sandwich tới khi một loại bánh hết mà vẫn có nhu cầu sẽ return về số còn lại"
   ]
  },
  {
   "cell_type": "code",
   "execution_count": 19,
   "metadata": {},
   "outputs": [],
   "source": [
    "\n",
    "def countStudents(students: list[int], sandwiches: list[int]) -> int:\n",
    "    #       [0, 1]\n",
    "    set_types_student = [0, 0]\n",
    "    for std in students:\n",
    "        if std == 0:\n",
    "            set_types_student[0] += 1\n",
    "        else:\n",
    "            set_types_student[1] += 1\n",
    "    \n",
    "    for sw in sandwiches:\n",
    "        if sw == 0:\n",
    "            if set_types_student[0] == 0:\n",
    "                return set_types_student[1]\n",
    "            else:\n",
    "                set_types_student[0] -= 1\n",
    "        else:\n",
    "            if set_types_student[1] == 0:\n",
    "                return set_types_student[0]\n",
    "            else:\n",
    "                set_types_student[1] -= 1\n",
    "    return 0\n"
   ]
  },
  {
   "cell_type": "markdown",
   "metadata": {},
   "source": [
    "### 844. Backspace String Compare"
   ]
  },
  {
   "cell_type": "code",
   "execution_count": 20,
   "metadata": {},
   "outputs": [],
   "source": [
    "def processString(s: str) -> str:\n",
    "    output = \"\"\n",
    "    stack_chars = []\n",
    "    for idx in range(len(s)):\n",
    "        stack_chars.append(s[len(s) - 1 - idx])\n",
    "    count = 0\n",
    "    idx = 0\n",
    "    while idx < len(stack_chars):\n",
    "        if stack_chars[idx] == \"#\":\n",
    "            count += 1\n",
    "        else:\n",
    "            if count > 0:\n",
    "                count -= 1\n",
    "                idx += 1\n",
    "                continue\n",
    "            else:\n",
    "                output = stack_chars[idx] + output\n",
    "        idx += 1\n",
    "    return output\n",
    "\n",
    "\n",
    "def backspaceCompare(s: str, t: str) -> bool:\n",
    "    return processString(s) == processString(t)"
   ]
  },
  {
   "cell_type": "code",
   "execution_count": 21,
   "metadata": {},
   "outputs": [
    {
     "data": {
      "text/plain": [
       "''"
      ]
     },
     "execution_count": 21,
     "metadata": {},
     "output_type": "execute_result"
    }
   ],
   "source": [
    "from collections import deque\n",
    "\n",
    "def processString(s: str) -> str:\n",
    "    queue_chars = deque()\n",
    "    sz_s = len(s)\n",
    "    for idx in range(sz_s):\n",
    "        queue_chars.append(s[sz_s - 1 - idx])\n",
    "    \n",
    "    output_str = \"\"\n",
    "    rm_char_count = 0\n",
    "    while len(queue_chars):\n",
    "        #       rm elements in queue\n",
    "        if queue_chars[0] == \"#\":\n",
    "            rm_char_count += 1\n",
    "            queue_chars.popleft()\n",
    "        else:\n",
    "            if rm_char_count > 0:\n",
    "                while rm_char_count:\n",
    "                    queue_chars.popleft()\n",
    "                    rm_char_count -= 1\n",
    "            else:\n",
    "                output_str = queue_chars[0] + output_str\n",
    "                queue_chars.popleft()\n",
    "    return output_str\n",
    "\n",
    "def backspaceCompare(s: str, t: str) -> bool:\n",
    "    return processString(s) == processString(t)\n",
    "\n",
    "processString(\"ab##\")"
   ]
  },
  {
   "cell_type": "markdown",
   "metadata": {},
   "source": [
    "### [933. Number of Recent Calls](https://leetcode.com/problems/number-of-recent-calls/description/)\n",
    "+ RecentCounter : đếm các yêu cầu gần đây trong thời gian nhất định\n",
    "-> Queue - FIFO "
   ]
  },
  {
   "cell_type": "code",
   "execution_count": 22,
   "metadata": {},
   "outputs": [],
   "source": [
    "from collections import deque\n",
    "\n",
    "class RecentCounter:\n",
    "\n",
    "    def __init__(self):\n",
    "        self.queue_reqs = deque()\n",
    "\n",
    "    def ping(self, t: int) -> int:\n",
    "        #   check existing queue\n",
    "        while self.queue_reqs and t - 3000 > self.queue_reqs[0]:\n",
    "            #       remove top then append to top (left)\n",
    "            self.queue_reqs.popleft()\n",
    "        self.queue_reqs.append(t)\n",
    "        return len(self.queue_reqs)"
   ]
  },
  {
   "cell_type": "markdown",
   "metadata": {},
   "source": [
    "### [224. Basic Calculator (*)](https://leetcode.com/problems/basic-calculator/description/)"
   ]
  },
  {
   "cell_type": "code",
   "execution_count": 27,
   "metadata": {},
   "outputs": [
    {
     "name": "stdout",
     "output_type": "stream",
     "text": [
      "2\n",
      "3\n",
      "23\n",
      "-1\n",
      "-1\n",
      "1\n",
      "1\n"
     ]
    }
   ],
   "source": [
    "class Solution:\n",
    "    def calculate(self, s: str) -> int:\n",
    "        number = 0\n",
    "        sign_value = 1\n",
    "        result = 0\n",
    "        operations_stack = []\n",
    "\n",
    "        for c in s:\n",
    "            if c.isdigit():\n",
    "                number = number * 10 + int(c)\n",
    "            if c in \"+-\":\n",
    "                result += number * sign_value\n",
    "                sign_value = -1 if c == '-' else 1\n",
    "                number = 0\n",
    "            elif c == '(':\n",
    "                operations_stack.append(result)\n",
    "                operations_stack.append(sign_value)\n",
    "                result = 0\n",
    "                sign_value = 1\n",
    "\n",
    "            elif c == ')':\n",
    "                result += sign_value * number\n",
    "                pop_sign_value = operations_stack.pop()\n",
    "                result *= pop_sign_value\n",
    "\n",
    "                second_value = operations_stack.pop()\n",
    "                result += second_value\n",
    "                number = 0\n",
    "        \n",
    "        return result + number * sign_value\n",
    "\n",
    "tmp = Solution()\n",
    "\n",
    "test_cases = [\n",
    "    \"1 + 1\",                    # 2\n",
    "    \" 2-1 + 2 \",\n",
    "    \"(1+(4+5+2)-3)+(6+8)\",      # 9 + 14 = 23\n",
    "    \"- 2 + 1\",                  # -1\n",
    "    \"(- 2 + 1\",                 # -1 \n",
    "    \"2 - - 1\",                  #  3    \n",
    "    \"2 - 1 -\",                  # 1\n",
    "]\n",
    "for test_case in test_cases:\n",
    "    output = tmp.calculate(test_case)\n",
    "    print(output)"
   ]
  },
  {
   "cell_type": "markdown",
   "metadata": {},
   "source": [
    "### [2696. Minimum String Length After Removing Substrings](https://leetcode.com/problems/minimum-string-length-after-removing-substrings/)"
   ]
  },
  {
   "cell_type": "markdown",
   "metadata": {},
   "source": [
    "### [1047. Remove All Adjacent Duplicates In String (*)](https://leetcode.com/problems/remove-all-adjacent-duplicates-in-string/)"
   ]
  },
  {
   "cell_type": "code",
   "execution_count": 34,
   "metadata": {},
   "outputs": [],
   "source": [
    "class Solution:\n",
    "    def removeDuplicates(self, s: str) -> str:\n",
    "        # if len(s) == 1:\n",
    "        #     return s\n",
    "        # #   stack\n",
    "        # list_char = [s[0]]\n",
    "        # for c in s[1:]:\n",
    "        #     if len(list_char) == 0 or c != list_char[-1]:\n",
    "        #         list_char.append(c)\n",
    "        #     else:\n",
    "        #         list_char.pop()\n",
    "        # return ''.join(list_char)\n",
    "    \n",
    "        \"\"\"             Đánh giá\n",
    "        hạn chế cách giải trên:\n",
    "            - len() == 1 có thể giải quyết bằng vòng lặp\n",
    "            - sử dụng stack để lưu phần tử ban đầu có thể lược bỏ\n",
    "            - len(list_char) == 0 tốn thời gian\n",
    "        => hãy giải quyết mọi thứ trong vòng for\n",
    "        \"\"\"\n",
    "        stack_chars = []\n",
    "        for c in s:\n",
    "            if stack_chars and stack_chars[-1] == c:\n",
    "                stack_chars.pop()\n",
    "            else:\n",
    "                stack_chars.append(c)\n",
    "        return \"\".join(char for char in stack_chars)"
   ]
  },
  {
   "cell_type": "code",
   "execution_count": 35,
   "metadata": {},
   "outputs": [
    {
     "name": "stdout",
     "output_type": "stream",
     "text": [
      "input: abbaca => output: ca\n",
      "input: azxxzy => output: ay\n"
     ]
    }
   ],
   "source": [
    "test_cases = [\n",
    "    \"abbaca\", \n",
    "    \"azxxzy\"\n",
    "]\n",
    "#\n",
    "solution = Solution()\n",
    "for test_case in test_cases:\n",
    "    result = solution.removeDuplicates(test_case)\n",
    "    print(f\"input: {test_case} => output: {result}\")"
   ]
  },
  {
   "cell_type": "markdown",
   "metadata": {},
   "source": [
    "### 1249. Minimum Remove to Make Valid Parentheses (*)"
   ]
  },
  {
   "cell_type": "code",
   "execution_count": 40,
   "metadata": {},
   "outputs": [],
   "source": [
    "class Solution:\n",
    "    def minRemoveToMakeValid(self, s: str) -> str:\n",
    "        # \"\"\"         cách 1:\n",
    "        # fuck tạp hóa:\n",
    "        #     - dict_idx_symbol\n",
    "        # \"\"\"\n",
    "        # list_idx_symbol = []\n",
    "        # for idx, c in enumerate(s):\n",
    "        #     if c.isalpha():\n",
    "        #         continue\n",
    "        #     else:\n",
    "        #         dict_idx_symbol = {}\n",
    "        #         dict_idx_symbol[idx] = c\n",
    "        #         #\n",
    "        #         if len(list_idx_symbol):\n",
    "        #             last_symbol =  list(list_idx_symbol[-1].values())[0]\n",
    "        #             if str(last_symbol) == '(' and c == ')':\n",
    "        #                 list_idx_symbol.pop()\n",
    "        #             else:\n",
    "        #                 list_idx_symbol.append(dict_idx_symbol)\n",
    "        #         else:\n",
    "        #             list_idx_symbol.append(dict_idx_symbol)\n",
    "        # list_c = list(s)\n",
    "        # indices_set = set()\n",
    "        # if len(list_idx_symbol):\n",
    "        #     for idx_symbol in list_idx_symbol:\n",
    "        #         indices_set.add(list(idx_symbol.keys())[0])\n",
    "        # return ''.join(char for i, char in enumerate(list_c) if i not in indices_set)\n",
    "\n",
    "        #           cách 2: thử đơn giản hóa dict_idx_symbol ~ bản chất lưu indexes cần xóa\n",
    "        # stack_left_parenthesis = []\n",
    "\n",
    "        # indices_to_remove = set()\n",
    "        \n",
    "        # for i, char in enumerate(s):\n",
    "        #     if char == \"(\":\n",
    "        #         stack_left_parenthesis.append(i)\n",
    "        #     elif char == \")\":\n",
    "        #         if stack_left_parenthesis:\n",
    "        #             stack_left_parenthesis.pop()\n",
    "        #         else:\n",
    "        #             indices_to_remove.add(i)\n",
    "        # #       xóa các ( được thêm vào\n",
    "        # indices_to_remove.update(stack_left_parenthesis)\n",
    "\n",
    "        # return \"\".join(char for idx, char in enumerate(s) if idx not in indices_to_remove)\n",
    "    \n",
    "        #           cách 3: hãy tập trung vào những thứ thật sự quan trọng.\n",
    "        \"\"\" \n",
    "            Thay đổi tại chỗ: Thay vì sử dụng set để lưu vị trí cần xóa, tôi đánh dấu trực tiếp các ký tự cần xóa bằng cách thay thế bằng chuỗi rỗng.\n",
    "            Giảm thiểu bước lặp: Phương pháp trước cần lặp lại mảng một lần nữa để tạo chuỗi kết quả, giải pháp này chỉ cần một lần join cuối cùng.\n",
    "            Giảm thiểu thao tác trên cấu trúc dữ liệu phức tạp: Không sử dụng set và cập nhật set nhiều lần.\n",
    "            Tận dụng mutable của list: Thay đổi trực tiếp trên list thay vì tạo chuỗi mới.\n",
    "        tao stack_open -> chay qua moi char: \n",
    "            (1) ( -> them vao \n",
    "            (2) ) -> \n",
    "                (2.1) stack_open > 0 -> pop()\n",
    "                (2.2) xoa truc tiep ) tai vi tri dang xet\n",
    "            (3) xoa cac ( neu co\n",
    "        \"\"\"\n",
    "        s_list = list(s)\n",
    "        stack_open_parenthesis = []\n",
    "\n",
    "        for i, char in enumerate(s):\n",
    "            if char == \"(\":\n",
    "                stack_open_parenthesis.append(i)\n",
    "            elif char == \")\":\n",
    "                if stack_open_parenthesis:\n",
    "                    stack_open_parenthesis.pop()\n",
    "                else:\n",
    "                    s_list[i] = \"\"\n",
    "        #\n",
    "        for idx in stack_open_parenthesis:\n",
    "            s_list[idx] = \"\"\n",
    "        return \"\".join(s_list)\n"
   ]
  },
  {
   "cell_type": "code",
   "execution_count": 39,
   "metadata": {},
   "outputs": [
    {
     "name": "stdout",
     "output_type": "stream",
     "text": [
      "input: lee(t(c)o)de) => output: lee(t(c)o)de\n",
      "input: a)b(c)d => output: ab(c)d\n",
      "input: ))(( => output: \n"
     ]
    }
   ],
   "source": [
    "test_cases = [\n",
    "    \"lee(t(c)o)de)\", \n",
    "    \"a)b(c)d\",\n",
    "    \"))((\"\n",
    "]\n",
    "#\n",
    "solution = Solution()\n",
    "for test_case in test_cases:\n",
    "    result = solution.minRemoveToMakeValid(test_case)\n",
    "    print(f\"input: {test_case} => output: {result}\")"
   ]
  },
  {
   "cell_type": "markdown",
   "metadata": {},
   "source": [
    "### 2073. Time Needed to Buy Tickets"
   ]
  },
  {
   "cell_type": "markdown",
   "metadata": {},
   "source": [
    "+ Keywords:\n",
    "    - peoples ~ queue with:\n",
    "        - 0th in top \n",
    "        - (n-1)th in bottom\n",
    "    - tickets ~ tai ith-index se lay tickets[i] number\n",
    "        - moi lan lay se lay 1 ticket, sau do di chuyen ve sau cung\n",
    "    ~ xep hang mua ve, moi lan 1ng/1ve, quay lai cuoi hang neu muon mua them\n",
    "    - input: list of so luong ve ma moi nguoi can mua & k - vi tri cua nguoi VIP can mua ma ta xem xet\n",
    "    - output: tra ve so lan ban ve de nguoi VIP mua het nhu cau\n",
    "    - condition:\n",
    "        - so luong ve cua nguoi thu k-th bang 0\n",
    "        - so luong nguoi trong queue co the giam ~> loi index\n",
    "+ Test cases -> Done\n",
    "+ "
   ]
  },
  {
   "cell_type": "code",
   "execution_count": 28,
   "metadata": {},
   "outputs": [],
   "source": [
    "class Solution:\n",
    "    def timeRequiredToBuy(self, tickets: list[int], k: int) -> int:\n",
    "        # count = 0\n",
    "        # if k > len(tickets):\n",
    "        #     return 0\n",
    "        # #\n",
    "        # numb_required_ticket = tickets[k]\n",
    "        # queue_numb_tickets = deque()\n",
    "        # for i in range(len(tickets)):\n",
    "        #     queue_numb_tickets.append(tickets[i])\n",
    "        # # update k-th by loop\n",
    "        # while numb_required_ticket > 0:\n",
    "        #     top_numb_ticket = queue_numb_tickets[0] - 1\n",
    "        #     if top_numb_ticket > 0:\n",
    "        #         queue_numb_tickets.append(top_numb_ticket)\n",
    "        #     queue_numb_tickets.popleft()\n",
    "        #     if k > 0:\n",
    "        #         k -= 1\n",
    "        #     else:\n",
    "        #         k = len(queue_numb_tickets) - 1\n",
    "        #         numb_required_ticket = top_numb_ticket\n",
    "        #     count += 1\n",
    "        # return count\n",
    "\n",
    "        #       fuck tạp\n",
    "        \"\"\" \n",
    "        thay vì chỉ lưu số vé, thử lưu (index, numb_ticket)\n",
    "        \"\"\"\n",
    "        time = 0\n",
    "        queue = deque([(i, tickets[i]) for i in range(len(tickets))])\n",
    "        \n",
    "        while queue:\n",
    "            idx, remaining = queue.popleft()\n",
    "            time += 1\n",
    "            remaining -= 1\n",
    "            \n",
    "            if idx == k and remaining == 0:\n",
    "                return time\n",
    "            \n",
    "            if remaining > 0:\n",
    "                queue.append((idx, remaining))\n",
    "        \n",
    "        return time"
   ]
  },
  {
   "cell_type": "code",
   "execution_count": 64,
   "metadata": {},
   "outputs": [
    {
     "name": "stdout",
     "output_type": "stream",
     "text": [
      "With test case: ([5, 1, 1, 1], 0) => output: 8\n"
     ]
    }
   ],
   "source": [
    "test_cases = [\n",
    "    # ([2, 1, 2], 2),     # [1, 2, 1] [1, 1] [0, 1] ~ 3\n",
    "    # ([2, 3, 2], 2),     # 6\n",
    "    ([5,1,1,1], 0),  # 8\n",
    "    # ([2, 1], 2),\n",
    "    # ([0, 0, 2], 2)\n",
    "]\n",
    "#\n",
    "solution = Solution()\n",
    "for test_case in test_cases:\n",
    "    result = solution.timeRequiredToBuy(test_case[0], test_case[1])\n",
    "    print(f\"With test case: {test_case} => output: {result}\")"
   ]
  },
  {
   "cell_type": "markdown",
   "metadata": {},
   "source": [
    "### 636. Exclusive Time of Functions"
   ]
  },
  {
   "cell_type": "markdown",
   "metadata": {},
   "source": [
    "### 682. Baseball Game"
   ]
  },
  {
   "cell_type": "markdown",
   "metadata": {},
   "source": [
    "### 2696. Minimum String Length After Removing Substrings"
   ]
  },
  {
   "cell_type": "markdown",
   "metadata": {},
   "source": [
    "### 1544. Make The String Great"
   ]
  },
  {
   "cell_type": "markdown",
   "metadata": {},
   "source": [
    "### 341. Flatten Nested List Iterator"
   ]
  },
  {
   "cell_type": "markdown",
   "metadata": {},
   "source": [
    "### 232. Implement Queue using Stacks"
   ]
  },
  {
   "cell_type": "markdown",
   "metadata": {},
   "source": [
    "### 225. Implement Stack using Queues"
   ]
  },
  {
   "cell_type": "markdown",
   "metadata": {},
   "source": [
    "### 739. Daily Temperatures"
   ]
  },
  {
   "cell_type": "markdown",
   "metadata": {},
   "source": [
    "### 394. Decode String"
   ]
  },
  {
   "cell_type": "markdown",
   "metadata": {},
   "source": [
    "## 9: Graph"
   ]
  },
  {
   "cell_type": "markdown",
   "metadata": {},
   "source": [
    "+ Define: a *non-linear* data structure consisting of *v - vertices* & *e - edges*\n",
    "    - denoted by: *G(V, E)*\n",
    "\n",
    "\n",
    "\n",
    "+ Representations:\n",
    "    - Adjacency matrix: Mỗi dòng thể hiện một đỉnh, mỗi cột biểu diễn vị trí mà ở đó đỉnh có kết nối tới.\n",
    "        - biểu diễn các loại dồ thị:\n",
    "            - vô hướng\n",
    "            - có hướng\n",
    "            - có/không trọng số\n",
    "        - the cell m[u][v] represents:\n",
    "            - nếu có cạnh nối giữa đỉnh i & j: m[i][j] = 1 & nếu không có cạnh: m[i][j] = 0\n",
    "            - nếu cạnh nối có trọng số:\n",
    "                ```\n",
    "                m[i][j] = weight_value\n",
    "                ```\n",
    "        - Đánh giá:\n",
    "            | Pros | Cons |\n",
    "            |------|------|\n",
    "            | space efficient for representing dense graphs | Required O(v**2) space to store a graph regardless of the number of edges |\n",
    "            | edge look up: O(1) | Required O(v) to loop through all adjacent vertices |\n",
    "            | Simplest graph representation | |\n",
    "    - Edge list\n",
    "        - An unordered list of edges. Each element in the list represent:\n",
    "            - *(u, v, w)*: path from node *u* to node *v* with cost *w*\n",
    "            - *(u, v)*: path from node *u* to node *v*\n",
    "        - Đánh giá:\n",
    "            | Pros | Cons |\n",
    "            |------|------|\n",
    "            | space efficient O(2*E) ~ O(E) with E - number of edge | Requires O(E) time to look-up an edge |\n",
    "            | Simple graph representation |  |\n",
    "    - Adjacency list"
   ]
  },
  {
   "cell_type": "markdown",
   "metadata": {},
   "source": [
    "### Phân loại các loại graphs\n",
    "\n",
    "| Loại đồ thị | Hướng | Chu trình | Đặc điểm chính/nhận diện trong leetcode | Ứng dụng hoặc dạng bài tổng quát trong leetcode |\n",
    "|-------------|-------|-----------|------------------------------------------|--------------------------------------------------|\n",
    "| Undirected Graph (Đồ thị vô hướng) | Không có hướng | Có thể có hoặc không | - Các cạnh không có hướng<br>- Thường biểu diễn bằng danh sách kề không định hướng<br>- Mô tả như `edges = [[0,1], [1,2]]` (không có mũi tên) | - Tìm đường đi ngắn nhất (BFS)<br>- Phát hiện thành phần liên thông<br>- Bài toán về mạng xã hội, kết nối bạn bè<br>- Union Find |\n",
    "| Directed Graph (Đồ thị có hướng) | Có hướng | Có thể có hoặc không | - Các cạnh có hướng chỉ định<br>- Thường mô tả như `edges = [[0,1], [1,2]]` với ý nghĩa 0→1, 1→2<br>- Adjacency list: `{0: [1], 1: [2], 2: []}` | - Phân tích dependency<br>- Phát hiện chu trình<br>- Topology Sort<br>- Web crawling |\n",
    "| Weighted Graph (Đồ thị có trọng số) | Có thể có hoặc không có hướng | Có thể có hoặc không | - Mỗi cạnh có một giá trị (trọng số)<br>- Mô tả như `edges = [[0,1,5], [1,2,3]]` (node1, node2, weight)<br>- Thường yêu cầu thuật toán có xét đến trọng số | - Thuật toán Dijkstra<br>- Thuật toán Bellman-Ford<br>- Minimum Spanning Tree (Kruskal, Prim)<br>- Bài toán đường đi ngắn nhất có trọng số |\n",
    "| Connected Graph (Đồ thị liên thông) | Thường là vô hướng | Có thể có hoặc không | - Từ bất kỳ đỉnh nào cũng có thể đi đến bất kỳ đỉnh nào khác<br>- Chỉ có một thành phần liên thông<br>- Đề bài thường đề cập \"ensure the graph is connected\" | - Tìm cây khung nhỏ nhất<br>- Bài toán kết nối mạng<br>- Xác định điểm articulation (cut vertices)<br>- Xác định cạnh cầu (bridges) |\n",
    "| Cycle Graph (Đồ thị có chu trình) | Có thể có hoặc không có hướng | Có ít nhất một chu trình | - Có ít nhất một đường đi từ một đỉnh quay lại chính nó<br>- Cần phát hiện bằng DFS hoặc BFS<br>- Đề bài thường yêu cầu \"detect if there's a cycle\" | - Phát hiện deadlock<br>- Phát hiện chu trình (cycle detection)<br>- Xác định xem các dependency có gây xung đột không |\n",
    "| Tree (Cây) | Vô hướng | Không có chu trình | - Đồ thị liên thông không có chu trình<br>- Số cạnh = số đỉnh - 1<br>- Có đúng một đường đi giữa bất kỳ hai đỉnh nào<br>- Thường giải quyết bằng DFS hoặc BFS | - Lowest Common Ancestor (LCA)<br>- Cây nhị phân, cây tìm kiếm<br>- Tree traversal<br>- Path finding in trees |\n",
    "| Directed Acyclic Graph (DAG) | Có hướng | Không có chu trình | - Đồ thị có hướng không có chu trình<br>- Luôn có thể sắp xếp topo (topological sort)<br>- Có ít nhất một đỉnh với indegree = 0<br>- Thường đề cập đến \"tasks\", \"prerequisites\", \"dependencies\" | - Topology Sort<br>- Bài toán lập lịch (scheduling)<br>- Critical Path Method<br>- Dynamic Programming trên DAG<br>- Shortest/longest path in DAG |"
   ]
  },
  {
   "cell_type": "markdown",
   "metadata": {},
   "source": [
    "### Khi nào sử dụng các thuật toán cho đồ thị\n",
    "\n",
    "| Thuật toán | Loại đồ thị phù hợp | Mục đích | Time Complexity |\n",
    "|------------|---------------------|----------|----------------|\n",
    "| BFS (Breadth-First Search) | Tất cả các loại đồ thị | - Tìm đường đi ngắn nhất (unweighted)<br>- Tìm tất cả các đỉnh có thể đi đến từ một đỉnh<br>- Level-order traversal | O(V + E) |\n",
    "| DFS (Depth-First Search) | Tất cả các loại đồ thị | - Phát hiện chu trình<br>- Tìm thành phần liên thông<br>- Topological sorting (cho DAG) | O(V + E) |\n",
    "| Dijkstra | Weighted Graph (không có cạnh âm) | Tìm đường đi ngắn nhất từ một đỉnh đến tất cả các đỉnh khác | O(E + V log V) |\n",
    "| Bellman-Ford | Weighted Graph (có thể có cạnh âm) | - Tìm đường đi ngắn nhất từ một đỉnh<br>- Phát hiện chu trình âm | O(V*E) |\n",
    "| Topological Sort | DAG | Sắp xếp thứ tự các đỉnh theo dependency | O(V + E) |\n",
    "| Kruskal/Prim | Weighted Undirected Connected Graph | Tìm cây khung nhỏ nhất (MST) | Kruskal: O(E log E)<br>Prim: O(E + V log V) |\n",
    "| Floyd-Warshall | Weighted Graph | Tìm đường đi ngắn nhất giữa mọi cặp đỉnh | O(V³) |\n",
    "| Union-Find | Undirected Graph | - Phát hiện chu trình<br>- Tìm thành phần liên thông | O(α(V)) - gần như O(1) |"
   ]
  },
  {
   "cell_type": "markdown",
   "metadata": {},
   "source": [
    "### Các pattern phổ biến trong bài toán về đồ thị\n",
    "\n",
    "1. **Connected Components**: Tìm số thành phần liên thông trong đồ thị\n",
    "2. **Bipartite Check**: Kiểm tra xem đồ thị có thể chia thành 2 tập không có cạnh nối giữa các đỉnh cùng tập\n",
    "3. **Cycle Detection**: Tìm chu trình trong đồ thị \n",
    "4. **Shortest Path**: Tìm đường đi ngắn nhất giữa hai đỉnh\n",
    "5. **Island Problems**: Đếm số đảo, tìm đảo lớn nhất (matrix dưới dạng đồ thị)\n",
    "6. **Graph Coloring**: Tô màu các đỉnh sao cho không có hai đỉnh kề nhau cùng màu\n",
    "7. **Minimum Spanning Tree**: Tìm cây khung nhỏ nhất\n",
    "8. **Network Flow**: Tìm luồng cực đại trong mạng\n",
    "\n",
    "+ Binary tree:\n",
    "    - each node has at most two child nodes\n",
    "    - binary search tree with satisfies the state:\n",
    "        ```\n",
    "        x.left.value <= x.value <= x.right.value\n",
    "        ```\n",
    "\n",
    "+ Generator function:\n",
    "    - generator: cách thức tạo *iterator*\n",
    "    - *yield*: "
   ]
  },
  {
   "cell_type": "code",
   "execution_count": null,
   "metadata": {},
   "outputs": [],
   "source": [
    "from collections import defaultdict, deque"
   ]
  },
  {
   "cell_type": "code",
   "execution_count": 7,
   "metadata": {},
   "outputs": [],
   "source": [
    "def bfs(edges: list[list[int]], numb_node: int, root_node_value: int):\n",
    "    #   convert edges -> graph\n",
    "    graph = defaultdict(list)\n",
    "    for src_node, dst_node in edges:\n",
    "        graph[src_node].append(dst_node)\n",
    "    #       check root node exist in graph\n",
    "    if root_node_value not in graph and not any(dst_node == root_node_value for _, dst_node in edges):\n",
    "        return set()\n",
    "    \n",
    "    #\n",
    "    visited_set = set([root_node_value])\n",
    "    traversed_queue = deque()\n",
    "    traversed_queue.append(root_node_value)\n",
    "    #\n",
    "    while traversed_queue:\n",
    "        #       get head element -> popleft()       => BFS\n",
    "        current_node = traversed_queue.popleft()    \n",
    "        #       get last element -> pop()           => DFS\n",
    "        for neighbor_node in graph[current_node]:\n",
    "            if neighbor_node not in visited_set:\n",
    "                traversed_queue.append(neighbor_node)\n",
    "                visited_set.add(neighbor_node)\n",
    "    return visited_set\n",
    "    "
   ]
  },
  {
   "cell_type": "markdown",
   "metadata": {},
   "source": [
    "### [100. Same Tree](https://leetcode.com/problems/same-tree/)\n",
    "\n",
    "+ Travel tree:\n",
    "    - Depth First Traversals (DFS):\n",
    "        - In-order ~ *root-left-right*\n",
    "        - Pre-order ~ *left-root-right*\n",
    "        - Post-order ~ *left-right-root*\n",
    "    - Breadth First or Traversal (BFS): duyệt toàn bộ tree theo chiều rộng ~ thăm toàn bộ các nodes cùng 1 level trước khi xuống nodes dưới"
   ]
  },
  {
   "cell_type": "code",
   "execution_count": 10,
   "metadata": {},
   "outputs": [],
   "source": [
    "# Definition for a binary tree node.\n",
    "class TreeNode:\n",
    "    def __init__(self, val=0, left=None, right=None):\n",
    "        self.val = val\n",
    "        self.left = left\n",
    "        self.right = right\n",
    "\n",
    "from typing import Optional\n",
    "\n",
    "class Solution:\n",
    "    def isSameTree(self, p: Optional[TreeNode], q: Optional[TreeNode]) -> bool:\n",
    "        #       recusion\n",
    "        if not p and not q:\n",
    "            return True\n",
    "        if not p or not q:\n",
    "            return False\n",
    "        if p.val != q.val:\n",
    "            return False\n",
    "        return self.isSameTree(p.left, q.left) and self.isSameTree(p.right, q.right)\n",
    "        "
   ]
  },
  {
   "cell_type": "markdown",
   "metadata": {},
   "source": [
    "### [743. Network Delay Time](https://leetcode.com/problems/network-delay-time/description/)\n",
    "\n",
    "+ Bài này khó nhất cần định nghĩa \"the minimum time it takes all the *n* node\" ~ tìm đường đi ngắn nhất đi qua tất cả các nodes\n",
    "    \n",
    "    -> tìm đường đi ngắn nhất: Dijkstra hoặc Bellman-Ford"
   ]
  },
  {
   "cell_type": "code",
   "execution_count": 11,
   "metadata": {},
   "outputs": [
    {
     "ename": "SyntaxError",
     "evalue": "incomplete input (3239149357.py, line 22)",
     "output_type": "error",
     "traceback": [
      "  \u001b[36mCell\u001b[39m\u001b[36m \u001b[39m\u001b[32mIn[11]\u001b[39m\u001b[32m, line 22\u001b[39m\n\u001b[31m    \u001b[39m\n    ^\n\u001b[31mSyntaxError\u001b[39m\u001b[31m:\u001b[39m incomplete input\n"
     ]
    }
   ],
   "source": [
    "from typing import List\n",
    "\n",
    "class Solution:\n",
    "    def networkDelayTime(self, times: List[List[int]], n: int, k: int) -> int:\n",
    "        #   contruct adj graph\n",
    "        graph = defaultdict(list)\n",
    "        for u, v, w in times:\n",
    "            graph[u].append((v, w))\n",
    "        #   distances\n",
    "        default_distance = float('inf')\n",
    "        distances = {node_id: default_distance for node_id in range(1, n + 1)}\n",
    "        distances[k] = 0\n",
    "        #       priority queue to get node with min distance (distance, node_id)\n",
    "        priority_queue = [(0, k)]\n",
    "\n",
    "        while priority_queue:\n",
    "            current_dist, current_node_id = priority_queue.pop()\n",
    "            if current_dist > distances[current_node_id]:\n",
    "                continue\n",
    "            #       duyen nut ke\n",
    "            for neighbor, weight in graph[current_node_id]:\n",
    "                                \n"
   ]
  },
  {
   "cell_type": "markdown",
   "metadata": {},
   "source": [
    "### [101. Symmetric Tree](https://leetcode.com/problems/symmetric-tree/description/)"
   ]
  },
  {
   "cell_type": "code",
   "execution_count": 24,
   "metadata": {},
   "outputs": [],
   "source": [
    "def isSymmetricTree(self, p: Optional[TreeNode], q: Optional[TreeNode]) -> bool:\n",
    "        if not q and not p:\n",
    "            return True\n",
    "        if not q or not p:\n",
    "            return False\n",
    "        if q.val != p.val:\n",
    "            return False\n",
    "        return self.isSameTree(p.left, q.right) and self.isSameTree(p.right, q.left)\n",
    "\n",
    "def isSymmetric(self, root: Optional[TreeNode]) -> bool:\n",
    "    if not root:\n",
    "        return False\n",
    "    return self.isSameTree(root.left, root.right)"
   ]
  },
  {
   "cell_type": "markdown",
   "metadata": {},
   "source": [
    "### [559. Maximum Depth of N-ary Tree (*)](https://leetcode.com/problems/maximum-depth-of-n-ary-tree/description/)"
   ]
  },
  {
   "cell_type": "code",
   "execution_count": 13,
   "metadata": {},
   "outputs": [],
   "source": [
    "from collections import deque\n",
    "\n",
    "class Node:\n",
    "    def __init__(self, val: Optional[int] = None, children: Optional[list['Node']] = None):\n",
    "        self.val = val\n",
    "        self.children = children\n",
    "\n",
    "def maxDepth_bfs(root):\n",
    "    if not root:\n",
    "        return 0\n",
    "    #\n",
    "    queue_nodes = deque([root])\n",
    "    depth = 0\n",
    "\n",
    "    while queue_nodes:\n",
    "        level_size = len(queue_nodes)\n",
    "        depth += 1\n",
    "\n",
    "        for _ in range(level_size):\n",
    "            node = queue_nodes.popleft()\n",
    "\n",
    "            for child in node.children:\n",
    "                queue_nodes.append(child)\n",
    "    return depth"
   ]
  },
  {
   "cell_type": "markdown",
   "metadata": {},
   "source": [
    "### [112. Path Sum](https://leetcode.com/problems/path-sum/description/)\n",
    "+ su dung dfs (duyệt theo chiều sâu)"
   ]
  },
  {
   "cell_type": "code",
   "execution_count": null,
   "metadata": {},
   "outputs": [],
   "source": [
    "def dfs(root: Optional[TreeNode]):\n",
    "    if not root:\n",
    "        return 0\n",
    "    \n",
    "\n",
    "def hasPathSum(self, root: Optional[TreeNode], targetSum: int) -> bool:"
   ]
  },
  {
   "cell_type": "markdown",
   "metadata": {},
   "source": [
    "### [1361. Validate Binary Tree Nodes](https://leetcode.com/problems/validate-binary-tree-nodes/description/)"
   ]
  },
  {
   "cell_type": "markdown",
   "metadata": {},
   "source": [
    "### [515. Find Largest Value in Each Tree Row](https://leetcode.com/problems/find-largest-value-in-each-tree-row/description/)"
   ]
  },
  {
   "cell_type": "markdown",
   "metadata": {},
   "source": [
    "### [226. Invert Binary Tree](https://leetcode.com/problems/invert-binary-tree/description/)"
   ]
  },
  {
   "cell_type": "markdown",
   "metadata": {},
   "source": [
    "### [110. Balanced Binary Tree](https://leetcode.com/problems/balanced-binary-tree/)"
   ]
  },
  {
   "cell_type": "markdown",
   "metadata": {},
   "source": [
    "### [257. Binary Tree Paths](https://leetcode.com/problems/binary-tree-paths/)"
   ]
  },
  {
   "cell_type": "markdown",
   "metadata": {},
   "source": [
    "## 10: Breadth First Search"
   ]
  },
  {
   "cell_type": "markdown",
   "metadata": {},
   "source": [
    "#### Kinh nghiệm\n",
    "+ Edge cases:   \n",
    "    + Kiểm tra source_node & destination node có trùng giá trị. \n",
    "    + Kiểm tra source node có trong graph, kích thước graph.\n",
    "+ Xác định đồ thị trong đề bài thuộc loại nào:\n",
    "    | Type | Có hướng | Vô hướng |\n",
    "    |------|------|------|\n",
    "    | Đề bài | Directed graph or one-way connections | - Undirected graph or bidirectional edges <br> - Road network or social connections | \n",
    "    | Edge | [a, b] | a -> b |\n",
    "    | Ngữ cảnh | flow networks or traffic | friend connections |"
   ]
  },
  {
   "cell_type": "code",
   "execution_count": null,
   "metadata": {},
   "outputs": [],
   "source": [
    "from collections import defaultdict\n",
    "\n",
    "def breadth_first_search(edges: list[list[int]], root_value: int) -> list:\n",
    "    \"\"\"\n",
    "    Args:\n",
    "        - edges (list[list[int]]): danh sách các cạnh được thể hiện bời node nguồn -> node đích\n",
    "        - n (int): số lượng nodes trong mạng\n",
    "        - root_value (int): giá trị của root node.\n",
    "    \"\"\"\n",
    "    #       Danh sach cac node duoc sap xep theo thu tu\n",
    "    node_list = []\n",
    "    #       1. Tạo danh sách dicts {source node: [destination nodes], ...}\n",
    "    graph = defaultdict(list)\n",
    "    for src_node, dest_node in edges:\n",
    "        graph[src_node].append(dest_node)\n",
    "\n",
    "    #       2. Initialize variable\n",
    "    visited_noded = set()\n",
    "    process_queue = deque([root_value])\n",
    "    visited_noded.add(root_value)\n",
    "\n",
    "    #      3. Implement BFS   \n",
    "    while process_queue:\n",
    "        #       lay ra node cha\n",
    "        remove_node = process_queue.popleft()\n",
    "        node_list.append(remove_node)\n",
    "        #       lay ra toan bo node con\n",
    "        for neighbor in graph[remove_node]:\n",
    "            if neighbor not in visited_noded:\n",
    "                visited_noded.add(neighbor)\n",
    "                process_queue.append(neighbor)\n",
    "    #\n",
    "    return node_list"
   ]
  },
  {
   "cell_type": "markdown",
   "metadata": {},
   "source": [
    "### [1971. Find if Path Exists in Graph](https://leetcode.com/problems/find-if-path-exists-in-graph/description/)\n",
    "\n",
    "+ Chú bé đần Đoàn. Để xác định liệu có tạo thành đường đi giữa 2 node thì coi 1 source node ~ root node của graph. Nếu trong visited nodes chứa cả destination node thì 2 nodes đó tạo thành đường. Chú bé đần!"
   ]
  },
  {
   "cell_type": "code",
   "execution_count": 3,
   "metadata": {},
   "outputs": [],
   "source": [
    "from typing import List\n",
    "from collections import defaultdict, deque\n",
    "\n",
    "\n",
    "class Solution:\n",
    "    def validPath(self, n: int, edges: List[List[int]], source: int, destination: int) -> bool:\n",
    "        graph = defaultdict(list)\n",
    "        for edge in edges:\n",
    "            if edge:\n",
    "                src_node, dst_node = edge[0], edge[1]\n",
    "                graph[src_node].append(dst_node)\n",
    "                graph[dst_node].append(src_node)\n",
    "        #\n",
    "        if len(graph) == 0 or source == destination:\n",
    "            return True\n",
    "\n",
    "        if source not in graph and not any(dst_node == source for _, dst_node in edges):\n",
    "            return False\n",
    "        #\n",
    "        visited_set = set([source])\n",
    "        processed_queue = deque()\n",
    "        processed_queue.append(source)\n",
    "\n",
    "        while processed_queue:\n",
    "            current_node = processed_queue.popleft()\n",
    "            for neighbor_node in graph[current_node]:\n",
    "                if neighbor_node not in visited_set:\n",
    "                    processed_queue.append(neighbor_node)\n",
    "                    visited_set.add(neighbor_node)\n",
    "                    if neighbor_node == destination:\n",
    "                        return True\n",
    "        return False"
   ]
  },
  {
   "cell_type": "code",
   "execution_count": 2,
   "metadata": {},
   "outputs": [
    {
     "name": "stdout",
     "output_type": "stream",
     "text": [
      "True\n"
     ]
    }
   ],
   "source": [
    "solution = Solution()\n",
    "n = 6 # 3\n",
    "# edges = [[0,1],[0,2],[3,5],[5,4],[4,3]] # [[0,1],[1,2],[2,0]]\n",
    "# edges = [[4,3],[1,4],[4,8],[1,7],[6,4],[4,2],[7,4],[4,0],[0,9],[5,4]]\n",
    "edges = [[0,7],[0,8],[6,1],[2,0],[0,4],[5,8],[4,7],[1,3],[3,5],[6,5]]\n",
    "source = 7\n",
    "destination = 5\n",
    "print(solution.validPath(n, edges, source, destination))"
   ]
  },
  {
   "cell_type": "markdown",
   "metadata": {},
   "source": [
    "### [1091. Shortest Path in Binary Matrix](https://leetcode.com/problems/shortest-path-in-binary-matrix/description/)\n",
    "\n",
    "+ \"clear path\" - đường đi từ *top-left* point -> *bottom-right* point"
   ]
  },
  {
   "cell_type": "code",
   "execution_count": null,
   "metadata": {},
   "outputs": [],
   "source": [
    "class Solution:\n",
    "    def shortestPathBinaryMatrix(self, grid: List[List[int]]) -> int:\n",
    "        \"\"\" \n",
    "        grid: list of values in each row\n",
    "        \"\"\"\n",
    "        #       edge cases: top-left or bottom-right # 0"
   ]
  },
  {
   "cell_type": "markdown",
   "metadata": {},
   "source": [
    "### [542. 01 Matrix](https://leetcode.com/problems/01-matrix/description/)"
   ]
  },
  {
   "cell_type": "markdown",
   "metadata": {},
   "source": [
    "### [1293. Shortest Path in a Grid with Obstacles Elimination](https://leetcode.com/problems/shortest-path-in-a-grid-with-obstacles-elimination/description/)"
   ]
  },
  {
   "cell_type": "markdown",
   "metadata": {},
   "source": [
    "### [130. Surrounded Regions](https://leetcode.com/problems/surrounded-regions/description/)"
   ]
  },
  {
   "cell_type": "markdown",
   "metadata": {},
   "source": [
    "### [417. Pacific Atlantic Water Flow](https://leetcode.com/problems/pacific-atlantic-water-flow/description/)"
   ]
  },
  {
   "cell_type": "markdown",
   "metadata": {},
   "source": [
    "## 11: DFS"
   ]
  },
  {
   "cell_type": "markdown",
   "metadata": {},
   "source": [
    "### [841. Keys and Rooms](https://leetcode.com/problems/keys-and-rooms/description/)"
   ]
  },
  {
   "cell_type": "markdown",
   "metadata": {},
   "source": [
    "### [547. Number of Provinces](https://leetcode.com/problems/number-of-provinces/description/)"
   ]
  },
  {
   "cell_type": "markdown",
   "metadata": {},
   "source": [
    "### [802. Find Eventual Safe States](https://leetcode.com/problems/find-eventual-safe-states/description/)"
   ]
  },
  {
   "cell_type": "markdown",
   "metadata": {},
   "source": [
    "### [785. Is Graph Bipartite?](https://leetcode.com/problems/is-graph-bipartite/description/)"
   ]
  },
  {
   "cell_type": "markdown",
   "metadata": {},
   "source": [
    "### [1319. Number of Operations to Make Network Connected](https://leetcode.com/problems/number-of-operations-to-make-network-connected/description/)"
   ]
  },
  {
   "cell_type": "markdown",
   "metadata": {},
   "source": [
    "### [2101. Detonate the Maximum Bombs](https://leetcode.com/problems/detonate-the-maximum-bombs/description/)"
   ]
  },
  {
   "cell_type": "markdown",
   "metadata": {},
   "source": [
    "### [2477. Minimum Fuel Cost to Report to the Capital](https://leetcode.com/problems/minimum-fuel-cost-to-report-to-the-capital/description/)"
   ]
  },
  {
   "cell_type": "markdown",
   "metadata": {},
   "source": [
    "## 12: Depth first search matrix (Island matrix traversal)"
   ]
  },
  {
   "cell_type": "markdown",
   "metadata": {},
   "source": [
    "### [200. Number of Islands](https://leetcode.com/problems/number-of-islands/description/)"
   ]
  },
  {
   "cell_type": "markdown",
   "metadata": {},
   "source": [
    "### [695. Max Area of Island](https://leetcode.com/problems/max-area-of-island/description/)"
   ]
  },
  {
   "cell_type": "markdown",
   "metadata": {},
   "source": [
    "### [1905. Count Sub Islands](https://leetcode.com/problems/count-sub-islands/description/)"
   ]
  },
  {
   "cell_type": "markdown",
   "metadata": {},
   "source": [
    "### [934. Shortest Bridge](https://leetcode.com/problems/shortest-bridge/description/)"
   ]
  },
  {
   "cell_type": "markdown",
   "metadata": {},
   "source": [
    "### [419. Battleships in a Board](https://leetcode.com/problems/battleships-in-a-board/description/)"
   ]
  },
  {
   "cell_type": "markdown",
   "metadata": {},
   "source": [
    "### [1992. Find All Groups of Farmland](https://leetcode.com/problems/find-all-groups-of-farmland/description/)"
   ]
  },
  {
   "cell_type": "markdown",
   "metadata": {},
   "source": [
    "### [2658. Maximum Number of Fish in a Grid](https://leetcode.com/problems/maximum-number-of-fish-in-a-grid/description/)"
   ]
  },
  {
   "cell_type": "markdown",
   "metadata": {},
   "source": [
    "### [1559. Detect Cycles in 2D Grid](https://leetcode.com/problems/detect-cycles-in-2d-grid/description/)"
   ]
  },
  {
   "cell_type": "markdown",
   "metadata": {},
   "source": [
    "### [1631. Path With Minimum Effort](https://leetcode.com/problems/path-with-minimum-effort/description/)"
   ]
  },
  {
   "cell_type": "markdown",
   "metadata": {},
   "source": [
    "## 13: Topological Sort"
   ]
  },
  {
   "cell_type": "markdown",
   "metadata": {},
   "source": [
    "### [210. Course Schedule II](https://leetcode.com/problems/course-schedule-ii/description/)"
   ]
  },
  {
   "cell_type": "markdown",
   "metadata": {},
   "source": [
    "### [605 · Sequence Reconstruction](https://www.lintcode.com/problem/605/)"
   ]
  },
  {
   "cell_type": "markdown",
   "metadata": {},
   "source": [
    "### [892 · Alien Dictionary](https://www.lintcode.com/problem/892/)"
   ]
  },
  {
   "cell_type": "markdown",
   "metadata": {},
   "source": [
    "### [207. Course Schedule](https://leetcode.com/problems/course-schedule/description/)"
   ]
  },
  {
   "cell_type": "markdown",
   "metadata": {},
   "source": [
    "### [310. Minimum Height Trees](https://leetcode.com/problems/minimum-height-trees/description/)"
   ]
  },
  {
   "cell_type": "markdown",
   "metadata": {},
   "source": [
    "### [2392. Build a Matrix With Conditions](https://leetcode.com/problems/build-a-matrix-with-conditions/description/)"
   ]
  },
  {
   "cell_type": "markdown",
   "metadata": {},
   "source": [
    "### [1203. Sort Items by Groups Respecting Dependencies](https://leetcode.com/problems/sort-items-by-groups-respecting-dependencies/description/)"
   ]
  },
  {
   "cell_type": "markdown",
   "metadata": {},
   "source": [
    "## 14: Interval"
   ]
  },
  {
   "cell_type": "markdown",
   "metadata": {},
   "source": [
    "### [56. Merge Intervals](https://leetcode.com/problems/merge-intervals/description/)"
   ]
  },
  {
   "cell_type": "markdown",
   "metadata": {},
   "source": [
    "### [57. Insert Interval](https://leetcode.com/problems/insert-interval/description/)"
   ]
  },
  {
   "cell_type": "markdown",
   "metadata": {},
   "source": [
    "### [435. Non-overlapping Intervals](https://leetcode.com/problems/non-overlapping-intervals/description/)"
   ]
  },
  {
   "cell_type": "markdown",
   "metadata": {},
   "source": [
    "### [452. Minimum Number of Arrows to Burst Balloons](https://leetcode.com/problems/minimum-number-of-arrows-to-burst-balloons/description/)"
   ]
  },
  {
   "cell_type": "markdown",
   "metadata": {},
   "source": [
    "### [986. Interval List Intersections](https://leetcode.com/problems/interval-list-intersections/description/)"
   ]
  },
  {
   "cell_type": "markdown",
   "metadata": {},
   "source": [
    "### [1288. Remove Covered Intervals](https://leetcode.com/problems/remove-covered-intervals/description/)"
   ]
  },
  {
   "cell_type": "markdown",
   "metadata": {},
   "source": [
    "### [436. Find Right Interval](https://leetcode.com/problems/find-right-interval/description/)"
   ]
  },
  {
   "cell_type": "markdown",
   "metadata": {},
   "source": [
    "### [2406. Divide Intervals Into Minimum Number of Groups](https://leetcode.com/problems/divide-intervals-into-minimum-number-of-groups/description/)"
   ]
  },
  {
   "cell_type": "markdown",
   "metadata": {},
   "source": [
    "### [2580. Count Ways to Group Overlapping Ranges](https://leetcode.com/problems/count-ways-to-group-overlapping-ranges/description/)"
   ]
  },
  {
   "cell_type": "markdown",
   "metadata": {},
   "source": [
    "### [352. Data Stream as Disjoint Intervals](https://leetcode.com/problems/data-stream-as-disjoint-intervals/description/)"
   ]
  },
  {
   "cell_type": "markdown",
   "metadata": {},
   "source": [
    "## 16: Heap"
   ]
  },
  {
   "cell_type": "markdown",
   "metadata": {},
   "source": [
    "### [1845. Seat Reservation Manager](https://leetcode.com/problems/seat-reservation-manager/description/)"
   ]
  },
  {
   "cell_type": "markdown",
   "metadata": {},
   "source": [
    "### [215. Kth Largest Element in an Array](https://leetcode.com/problems/kth-largest-element-in-an-array/description/)"
   ]
  },
  {
   "cell_type": "markdown",
   "metadata": {},
   "source": [
    "### [1834. Single-Threaded CPU](https://leetcode.com/problems/single-threaded-cpu/description/)"
   ]
  },
  {
   "cell_type": "markdown",
   "metadata": {},
   "source": [
    "### [1882. Process Tasks Using Servers](https://leetcode.com/problems/process-tasks-using-servers/description/)"
   ]
  },
  {
   "cell_type": "markdown",
   "metadata": {},
   "source": [
    "### [347. Top K Frequent Elements](https://leetcode.com/problems/top-k-frequent-elements/description/)"
   ]
  },
  {
   "cell_type": "markdown",
   "metadata": {},
   "source": [
    "## 17: Greedy"
   ]
  },
  {
   "cell_type": "markdown",
   "metadata": {},
   "source": [
    "## 18: Divide and conquer"
   ]
  },
  {
   "cell_type": "markdown",
   "metadata": {},
   "source": [
    "## Lesson 19: Prefix sum"
   ]
  },
  {
   "cell_type": "markdown",
   "metadata": {},
   "source": [
    "## Lesson 20: Prime sum"
   ]
  },
  {
   "cell_type": "markdown",
   "metadata": {},
   "source": [
    "# DSA - 02"
   ]
  },
  {
   "cell_type": "markdown",
   "metadata": {},
   "source": [
    "## Lesson 1: Bit manipulation"
   ]
  },
  {
   "cell_type": "markdown",
   "metadata": {},
   "source": [
    "## Lesson 2: Advanced tree"
   ]
  },
  {
   "cell_type": "markdown",
   "metadata": {},
   "source": [
    "## Lesson 3: Trie"
   ]
  },
  {
   "cell_type": "markdown",
   "metadata": {},
   "source": [
    "## Lesson 4: Union find"
   ]
  },
  {
   "cell_type": "markdown",
   "metadata": {},
   "source": [
    "## Lesson 5: Advanced binary search"
   ]
  },
  {
   "cell_type": "markdown",
   "metadata": {},
   "source": [
    "## Lesson 6: Two pointers"
   ]
  },
  {
   "cell_type": "markdown",
   "metadata": {},
   "source": [
    "## Lesson 7: Sliding window"
   ]
  },
  {
   "cell_type": "markdown",
   "metadata": {},
   "source": [
    "## Lesson 8: Backtracking"
   ]
  },
  {
   "cell_type": "markdown",
   "metadata": {},
   "source": [
    "## Lesson 9: Backtracking 2 with memoization"
   ]
  },
  {
   "cell_type": "markdown",
   "metadata": {},
   "source": [
    "## Lesson 10: Dynamic programming (LCS, LIS, KNAP)"
   ]
  },
  {
   "cell_type": "markdown",
   "metadata": {},
   "source": [
    "## Lesson 11: Dynamic programming (Coin, stock)"
   ]
  }
 ],
 "metadata": {
  "kernelspec": {
   "display_name": "base",
   "language": "python",
   "name": "python3"
  },
  "language_info": {
   "codemirror_mode": {
    "name": "ipython",
    "version": 3
   },
   "file_extension": ".py",
   "mimetype": "text/x-python",
   "name": "python",
   "nbconvert_exporter": "python",
   "pygments_lexer": "ipython3",
   "version": "3.12.3"
  }
 },
 "nbformat": 4,
 "nbformat_minor": 2
}
